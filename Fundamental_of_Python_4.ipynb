{
  "nbformat": 4,
  "nbformat_minor": 0,
  "metadata": {
    "colab": {
      "provenance": [],
      "authorship_tag": "ABX9TyP8CMc9twzHBFU8QM6tEm+v",
      "include_colab_link": true
    },
    "kernelspec": {
      "name": "python3",
      "display_name": "Python 3"
    },
    "language_info": {
      "name": "python"
    }
  },
  "cells": [
    {
      "cell_type": "markdown",
      "metadata": {
        "id": "view-in-github",
        "colab_type": "text"
      },
      "source": [
        "<a href=\"https://colab.research.google.com/github/HG1210/Learn_py/blob/main/Fundamental_of_Python_4.ipynb\" target=\"_parent\"><img src=\"https://colab.research.google.com/assets/colab-badge.svg\" alt=\"Open In Colab\"/></a>"
      ]
    },
    {
      "cell_type": "markdown",
      "source": [
        "13/04/2025\n",
        "\n",
        "\n",
        "1.  List in Python - Lists means multiple item under one single name. Acts like a dynamic array.\n",
        "\n",
        "\n",
        "*   Ordered matters the most\n",
        "*   Changeble\n",
        "*   dynamic & nested\n",
        "*   duplicates values\n",
        "\n",
        "\n",
        "\n",
        "\n",
        "2.  \n",
        "\n"
      ],
      "metadata": {
        "id": "9WAhXhqcO3ui"
      }
    },
    {
      "cell_type": "code",
      "execution_count": null,
      "metadata": {
        "colab": {
          "base_uri": "https://localhost:8080/"
        },
        "id": "7UeMsTPLOmkX",
        "outputId": "b9239ded-336f-4da6-a43f-0f93dd095449"
      },
      "outputs": [
        {
          "output_type": "stream",
          "name": "stdout",
          "text": [
            "[]\n",
            "[1, 2, 3]\n",
            "[1, 2, [3, 4]]\n",
            "[[[1, 2], [3, 4], [1, 5], [8, 9]]]\n",
            "[1, True, 'HG', '2.56']\n",
            "['L', 'i', 's', 't', 's']\n"
          ]
        }
      ],
      "source": [
        "#Lists\n",
        "#Empty List\n",
        "print([])\n",
        "#1D -> Homo Lists\n",
        "print([1,2,3])\n",
        "#2D -> Hetro\n",
        "print([1,2,[3,4]])\n",
        "#3D -> Homo\n",
        "print([[[1,2],[3,4],[1,5],[8,9]]])\n",
        "#Hetro\n",
        "print([1,True,'HG','2.56'])\n",
        "#Using Type Conversion\n",
        "print(list('Lists'))"
      ]
    },
    {
      "cell_type": "code",
      "source": [
        "#Indexing Lists\n",
        "list_Test = [12,2,3]\n",
        "print(list_Test[0])\n",
        "print(list_Test[-1])\n",
        "\n",
        "list_Test2 = [1,2,3,[50,25]]\n",
        "print(list_Test2[3])\n",
        "print(list_Test2[3][0])\n",
        "\n",
        "list_Test2 = [[[[1,2],[3,4]],[[1,5],[8,9]]]]\n",
        "print(list_Test2[0][1])\n",
        "print(list_Test2[0][1][1])\n",
        "print(list_Test2[0][1][1][1])"
      ],
      "metadata": {
        "colab": {
          "base_uri": "https://localhost:8080/"
        },
        "id": "thgV7XM1c8z7",
        "outputId": "5fad2f10-9e66-4d07-e56b-8a3a64ebf0ea"
      },
      "execution_count": null,
      "outputs": [
        {
          "output_type": "stream",
          "name": "stdout",
          "text": [
            "12\n",
            "3\n",
            "[50, 25]\n",
            "50\n",
            "[[1, 5], [8, 9]]\n",
            "[8, 9]\n",
            "9\n"
          ]
        }
      ]
    },
    {
      "cell_type": "code",
      "source": [
        "#Slicing\n",
        "slice_Test = [1,2,34,5,58]\n",
        "print(slice_Test[::-1])\n",
        "print(slice_Test[0:3])"
      ],
      "metadata": {
        "colab": {
          "base_uri": "https://localhost:8080/"
        },
        "id": "dbsGXtloh6_T",
        "outputId": "2e0339a0-3b83-4ee3-a37f-d39d9a821832"
      },
      "execution_count": null,
      "outputs": [
        {
          "output_type": "stream",
          "name": "stdout",
          "text": [
            "[58, 5, 34, 2, 1]\n",
            "[1, 2, 34]\n"
          ]
        }
      ]
    },
    {
      "cell_type": "markdown",
      "source": [
        "#Adding item to list"
      ],
      "metadata": {
        "id": "mc6rii7_icdn"
      }
    },
    {
      "cell_type": "code",
      "source": [
        "#append - At the end of list, one item.\n",
        "app_lists = [1,2,5,9]\n",
        "app_lists.append([5,6])\n",
        "app_lists.append(10)\n",
        "print(app_lists)"
      ],
      "metadata": {
        "colab": {
          "base_uri": "https://localhost:8080/"
        },
        "id": "m1ffCZTTiYs5",
        "outputId": "cf74a7cc-5c5f-41db-aed8-a0fbdca1fd2d"
      },
      "execution_count": null,
      "outputs": [
        {
          "output_type": "stream",
          "name": "stdout",
          "text": [
            "[1, 2, 5, 9, [5, 6], 10]\n"
          ]
        }
      ]
    },
    {
      "cell_type": "code",
      "source": [
        "#Extend - At the end, multiple item\n",
        "ext_lists = [1,2,5,9]\n",
        "ext_lists.extend([5,6])\n",
        "ext_lists.append(10)\n",
        "print(ext_lists)"
      ],
      "metadata": {
        "colab": {
          "base_uri": "https://localhost:8080/"
        },
        "id": "JHuoA0XAkJ6-",
        "outputId": "726f9eab-f304-4373-d178-56ee3460fb9b"
      },
      "execution_count": null,
      "outputs": [
        {
          "output_type": "stream",
          "name": "stdout",
          "text": [
            "[1, 2, 5, 9, 5, 6, 10]\n"
          ]
        }
      ]
    },
    {
      "cell_type": "code",
      "source": [
        "#insert - At any postion of the list\n",
        "ins_lists = [5,8,89,556]\n",
        "ins_lists.insert(1,50)\n",
        "print(ins_lists)"
      ],
      "metadata": {
        "colab": {
          "base_uri": "https://localhost:8080/"
        },
        "id": "Rx91S76Ukla5",
        "outputId": "64c66e2c-ad05-48dd-941b-5b9884e122a3"
      },
      "execution_count": null,
      "outputs": [
        {
          "output_type": "stream",
          "name": "stdout",
          "text": [
            "[5, 50, 8, 89, 556]\n"
          ]
        }
      ]
    },
    {
      "cell_type": "markdown",
      "source": [
        "Editing item in lists"
      ],
      "metadata": {
        "id": "HTso2Z1jOx1P"
      }
    },
    {
      "cell_type": "code",
      "source": [
        "edit_list = [1,25,8,52]\n",
        "edit_list[-1] = 12\n",
        "print(edit_list)"
      ],
      "metadata": {
        "colab": {
          "base_uri": "https://localhost:8080/"
        },
        "id": "h6YWY_1bO20J",
        "outputId": "0f98847a-d786-4de0-f472-88b852d324c6"
      },
      "execution_count": null,
      "outputs": [
        {
          "output_type": "stream",
          "name": "stdout",
          "text": [
            "[1, 25, 8, 12]\n"
          ]
        }
      ]
    },
    {
      "cell_type": "code",
      "source": [
        "#Editing with slicing\n",
        "edit_list = [1,25,8,52]\n",
        "edit_list[0:3] = [12,15,20]\n",
        "print(edit_list)"
      ],
      "metadata": {
        "colab": {
          "base_uri": "https://localhost:8080/"
        },
        "id": "oQ9qggmDP9mt",
        "outputId": "7dbee6d8-1103-4669-97f9-7800db8196f5"
      },
      "execution_count": null,
      "outputs": [
        {
          "output_type": "stream",
          "name": "stdout",
          "text": [
            "[12, 15, 20, 52]\n"
          ]
        }
      ]
    },
    {
      "cell_type": "markdown",
      "source": [
        "Deleting item in lists"
      ],
      "metadata": {
        "id": "NYxO42loQNE8"
      }
    },
    {
      "cell_type": "code",
      "source": [
        "#Del\n",
        "del_list = [1,25,8,52]\n",
        "del del_list\n",
        "print(del_list)\n"
      ],
      "metadata": {
        "colab": {
          "base_uri": "https://localhost:8080/",
          "height": 176
        },
        "id": "dnJeOMcNQSg_",
        "outputId": "53122e0f-053b-46a4-bd2b-f467eec4d84c"
      },
      "execution_count": null,
      "outputs": [
        {
          "output_type": "error",
          "ename": "NameError",
          "evalue": "name 'del_list' is not defined",
          "traceback": [
            "\u001b[0;31m---------------------------------------------------------------------------\u001b[0m",
            "\u001b[0;31mNameError\u001b[0m                                 Traceback (most recent call last)",
            "\u001b[0;32m<ipython-input-5-a5710d39cbd3>\u001b[0m in \u001b[0;36m<cell line: 0>\u001b[0;34m()\u001b[0m\n\u001b[1;32m      2\u001b[0m \u001b[0mdel_list\u001b[0m \u001b[0;34m=\u001b[0m \u001b[0;34m[\u001b[0m\u001b[0;36m1\u001b[0m\u001b[0;34m,\u001b[0m\u001b[0;36m25\u001b[0m\u001b[0;34m,\u001b[0m\u001b[0;36m8\u001b[0m\u001b[0;34m,\u001b[0m\u001b[0;36m52\u001b[0m\u001b[0;34m]\u001b[0m\u001b[0;34m\u001b[0m\u001b[0;34m\u001b[0m\u001b[0m\n\u001b[1;32m      3\u001b[0m \u001b[0;32mdel\u001b[0m \u001b[0mdel_list\u001b[0m\u001b[0;34m\u001b[0m\u001b[0;34m\u001b[0m\u001b[0m\n\u001b[0;32m----> 4\u001b[0;31m \u001b[0mprint\u001b[0m\u001b[0;34m(\u001b[0m\u001b[0mdel_list\u001b[0m\u001b[0;34m)\u001b[0m\u001b[0;34m\u001b[0m\u001b[0;34m\u001b[0m\u001b[0m\n\u001b[0m",
            "\u001b[0;31mNameError\u001b[0m: name 'del_list' is not defined"
          ]
        }
      ]
    },
    {
      "cell_type": "code",
      "source": [
        "# Del through Slicing way\n",
        "del_list = [1,25,8,52]\n",
        "del del_list[0:2]\n",
        "print(del_list)"
      ],
      "metadata": {
        "colab": {
          "base_uri": "https://localhost:8080/"
        },
        "id": "B1v5e2zVSxn-",
        "outputId": "411ac441-aaea-4820-d0e9-1bbb2a3ac29c"
      },
      "execution_count": null,
      "outputs": [
        {
          "output_type": "stream",
          "name": "stdout",
          "text": [
            "[8, 52]\n"
          ]
        }
      ]
    },
    {
      "cell_type": "code",
      "source": [
        "#remove\n",
        "del_list = [1,25,8,52]\n",
        "del_list.remove(25)\n",
        "print(del_list)"
      ],
      "metadata": {
        "colab": {
          "base_uri": "https://localhost:8080/"
        },
        "id": "gJfmUyrsTJ6a",
        "outputId": "d40cf399-3267-41ed-823a-b21fad3acd9a"
      },
      "execution_count": null,
      "outputs": [
        {
          "output_type": "stream",
          "name": "stdout",
          "text": [
            "[1, 8, 52]\n"
          ]
        }
      ]
    },
    {
      "cell_type": "code",
      "source": [
        "#pop\n",
        "# Del through Slicing way\n",
        "del_list = [1,25,8,52]\n",
        "del_list.pop()\n",
        "#can also be written in del_list.pop(0)\n",
        "print(del_list)"
      ],
      "metadata": {
        "colab": {
          "base_uri": "https://localhost:8080/"
        },
        "id": "w2fr0vVjTUUl",
        "outputId": "ed102d0c-0c9f-45e4-8505-b8c66ba3451c"
      },
      "execution_count": null,
      "outputs": [
        {
          "output_type": "stream",
          "name": "stdout",
          "text": [
            "[1, 25, 8]\n"
          ]
        }
      ]
    },
    {
      "cell_type": "code",
      "source": [
        "#clear\n",
        "del_list = [1,25,8,52]\n",
        "del_list.clear()\n",
        "print(del_list)"
      ],
      "metadata": {
        "colab": {
          "base_uri": "https://localhost:8080/"
        },
        "id": "XlfQcpoPTk4X",
        "outputId": "06068d15-ad99-43d1-e55c-4d57716f53d1"
      },
      "execution_count": null,
      "outputs": [
        {
          "output_type": "stream",
          "name": "stdout",
          "text": [
            "[]\n"
          ]
        }
      ]
    },
    {
      "cell_type": "markdown",
      "source": [
        "Operation in list"
      ],
      "metadata": {
        "id": "m-5_4y1sY7eB"
      }
    },
    {
      "cell_type": "code",
      "source": [
        "#Arthmetic (+ *)\n",
        "art_list = [1,56,85]\n",
        "art_list_2 = [26,45,96]\n",
        "print(art_list + art_list_2)"
      ],
      "metadata": {
        "colab": {
          "base_uri": "https://localhost:8080/"
        },
        "id": "c-mwr-yYZBji",
        "outputId": "73c94ebb-bec5-49f4-dcc4-28b0d6cbce0d"
      },
      "execution_count": null,
      "outputs": [
        {
          "output_type": "stream",
          "name": "stdout",
          "text": [
            "[1, 56, 85, 26, 45, 96]\n"
          ]
        }
      ]
    },
    {
      "cell_type": "code",
      "source": [
        "#Arthmetic (+ *)\n",
        "art_list = [5,8]\n",
        "print(art_list * 3)"
      ],
      "metadata": {
        "colab": {
          "base_uri": "https://localhost:8080/"
        },
        "id": "cJg860OBZfQL",
        "outputId": "e3514d76-d900-4f20-99b4-d3c3a8aa508b"
      },
      "execution_count": null,
      "outputs": [
        {
          "output_type": "stream",
          "name": "stdout",
          "text": [
            "[5, 8, 5, 8, 5, 8]\n"
          ]
        }
      ]
    },
    {
      "cell_type": "code",
      "source": [
        "#Membership (in, not in)\n",
        "mem_list = [1,56,85]\n",
        "mem_list_2 = [26,45,96]\n",
        "print(56 in mem_list)"
      ],
      "metadata": {
        "colab": {
          "base_uri": "https://localhost:8080/"
        },
        "id": "m-tvaCLbZu4n",
        "outputId": "c7fb9c47-4544-454a-c94a-08e8054a780f"
      },
      "execution_count": null,
      "outputs": [
        {
          "output_type": "stream",
          "name": "stdout",
          "text": [
            "True\n"
          ]
        }
      ]
    },
    {
      "cell_type": "code",
      "source": [
        "#loops\n",
        "art_list = [1,56,85]\n",
        "art_list_2 = [26,45,96]\n",
        "for i in art_list:\n",
        "  print(i)"
      ],
      "metadata": {
        "colab": {
          "base_uri": "https://localhost:8080/"
        },
        "id": "wYlJItwCgT4a",
        "outputId": "72bc8f66-8b90-4594-d48a-560155caee59"
      },
      "execution_count": null,
      "outputs": [
        {
          "output_type": "stream",
          "name": "stdout",
          "text": [
            "1\n",
            "56\n",
            "85\n"
          ]
        }
      ]
    },
    {
      "cell_type": "markdown",
      "source": [
        "List Function\n",
        "We have some common function for all the types i.e. list string"
      ],
      "metadata": {
        "id": "kXOVBgvWg-U8"
      }
    },
    {
      "cell_type": "code",
      "source": [
        "#len,min,max and sorted\n",
        "common = [10,5,8,9]\n",
        "print(\"Length of list\",len(common))\n",
        "print(min(common))\n",
        "print(max(common))\n",
        "print(sorted(common))"
      ],
      "metadata": {
        "colab": {
          "base_uri": "https://localhost:8080/"
        },
        "id": "gTW-swfgg9Uf",
        "outputId": "04968783-5530-4a72-ae36-32f31bc31c61"
      },
      "execution_count": null,
      "outputs": [
        {
          "output_type": "stream",
          "name": "stdout",
          "text": [
            "Length of list 4\n",
            "5\n",
            "10\n",
            "[5, 8, 9, 10]\n"
          ]
        }
      ]
    },
    {
      "cell_type": "code",
      "source": [
        "#count\n",
        "common_count = [4,8,3,4]\n",
        "common_count.count(4)"
      ],
      "metadata": {
        "colab": {
          "base_uri": "https://localhost:8080/"
        },
        "id": "AScFBpB_jd1N",
        "outputId": "102b9c8e-56cc-4523-a5b7-c3da7b76416f"
      },
      "execution_count": null,
      "outputs": [
        {
          "output_type": "execute_result",
          "data": {
            "text/plain": [
              "2"
            ]
          },
          "metadata": {},
          "execution_count": 32
        }
      ]
    },
    {
      "cell_type": "code",
      "source": [
        "#index\n",
        "common_index = [1,4,5,8]\n",
        "common_index.index(5)"
      ],
      "metadata": {
        "colab": {
          "base_uri": "https://localhost:8080/"
        },
        "id": "RRV4h20AkkUg",
        "outputId": "7925a377-34c2-4d3c-9982-d815ab42ef1f"
      },
      "execution_count": null,
      "outputs": [
        {
          "output_type": "execute_result",
          "data": {
            "text/plain": [
              "2"
            ]
          },
          "metadata": {},
          "execution_count": 34
        }
      ]
    },
    {
      "cell_type": "code",
      "source": [
        "#We have sort function as well. The main difference between two is that sort will directly changes the list where sorted will keep them in temporary memory location.\n",
        "#sort - permanently changes the list\n",
        "common_index = [1,5,6,8]\n",
        "common_index.sort()\n",
        "print(common_index)"
      ],
      "metadata": {
        "colab": {
          "base_uri": "https://localhost:8080/"
        },
        "id": "vjblfmMGkyL8",
        "outputId": "0d101ee8-92fe-4830-e844-2563e087afe3"
      },
      "execution_count": null,
      "outputs": [
        {
          "output_type": "stream",
          "name": "stdout",
          "text": [
            "[1, 5, 6, 8]\n"
          ]
        }
      ]
    },
    {
      "cell_type": "code",
      "source": [
        "#reverse - permanent change to the list\n",
        "common_index = [1,5,6,8]\n",
        "common_index.reverse()\n",
        "print(common_index)"
      ],
      "metadata": {
        "colab": {
          "base_uri": "https://localhost:8080/"
        },
        "id": "NKoiBjfKl8Km",
        "outputId": "8251df7a-2943-4eec-aeaf-5223d781b7ed"
      },
      "execution_count": null,
      "outputs": [
        {
          "output_type": "stream",
          "name": "stdout",
          "text": [
            "[8, 6, 5, 1]\n"
          ]
        }
      ]
    },
    {
      "cell_type": "code",
      "source": [
        "#copy - different memory location. if we use copy function\n",
        "common_copy = [5,8,96,59]\n",
        "print(id(common_copy))\n",
        "copy = common_copy\n",
        "print(id(copy))\n",
        "print(copy)"
      ],
      "metadata": {
        "colab": {
          "base_uri": "https://localhost:8080/"
        },
        "id": "tbhrlBzum0R5",
        "outputId": "e0f5f006-b419-4435-9212-4cd8d4fbc359"
      },
      "execution_count": null,
      "outputs": [
        {
          "output_type": "stream",
          "name": "stdout",
          "text": [
            "135053003379264\n",
            "135053003379264\n",
            "[5, 8, 96, 59]\n"
          ]
        }
      ]
    },
    {
      "cell_type": "markdown",
      "source": [
        "26/04/2025\n",
        "List Comprehension - Refer Notes"
      ],
      "metadata": {
        "id": "5sFbWnu1D7Te"
      }
    },
    {
      "cell_type": "code",
      "source": [
        "# Add 1 to 10 in list\n",
        "L = []\n",
        "\n",
        "for i in range(1,11): #item in Iterable\n",
        "  L.append(i) #Expression\n",
        "\n",
        "print(L)\n"
      ],
      "metadata": {
        "colab": {
          "base_uri": "https://localhost:8080/"
        },
        "id": "YtmMuYZDCUEm",
        "outputId": "1e1618d2-97bf-4490-d8c6-01e02edb7402"
      },
      "execution_count": null,
      "outputs": [
        {
          "output_type": "stream",
          "name": "stdout",
          "text": [
            "[1, 2, 3, 4, 5, 6, 7, 8, 9, 10]\n"
          ]
        }
      ]
    },
    {
      "cell_type": "code",
      "source": [
        "#List Comprehension\n",
        "L = [i for i in range(1,11)]\n",
        "print(L)"
      ],
      "metadata": {
        "colab": {
          "base_uri": "https://localhost:8080/"
        },
        "id": "RP5aMNNVBaCv",
        "outputId": "28a59832-e47c-457a-d84c-cb6a6dcabccc"
      },
      "execution_count": null,
      "outputs": [
        {
          "output_type": "stream",
          "name": "stdout",
          "text": [
            "[1, 2, 3, 4, 5, 6, 7, 8, 9, 10]\n"
          ]
        }
      ]
    },
    {
      "cell_type": "code",
      "source": [
        "#Square of the numbers\n",
        "L = [2,3,4,5]\n",
        "x = []\n",
        "\n",
        "for i in L:\n",
        "  x.append(i**2)\n",
        "\n",
        "print(x)"
      ],
      "metadata": {
        "id": "eIYXJ6iYEZlZ",
        "colab": {
          "base_uri": "https://localhost:8080/"
        },
        "outputId": "27f98702-af17-4e86-9575-d41aca2e0cc4"
      },
      "execution_count": null,
      "outputs": [
        {
          "output_type": "stream",
          "name": "stdout",
          "text": [
            "[1, 4, 9, 16, 25]\n"
          ]
        }
      ]
    },
    {
      "cell_type": "code",
      "source": [
        "#List Comprehension\n",
        "L = [i**2 for i in range(1,4)]\n",
        "print(L)"
      ],
      "metadata": {
        "colab": {
          "base_uri": "https://localhost:8080/"
        },
        "id": "Onxzsi1iG9m6",
        "outputId": "f762fd9b-c467-4ff5-910b-67dc6c8c719c"
      },
      "execution_count": null,
      "outputs": [
        {
          "output_type": "stream",
          "name": "stdout",
          "text": [
            "[1, 4, 9]\n"
          ]
        }
      ]
    },
    {
      "cell_type": "code",
      "source": [
        "#Scalar Multiplication\n",
        "L = [1,2,3]\n",
        "s = 3\n",
        "x = []\n",
        "\n",
        "for i in L:\n",
        "  x.append(i*s)\n",
        "\n",
        "print(x)"
      ],
      "metadata": {
        "colab": {
          "base_uri": "https://localhost:8080/"
        },
        "id": "n5_nOoDBHRWp",
        "outputId": "cb893eed-a1d4-4de5-f426-28de908af6d5"
      },
      "execution_count": null,
      "outputs": [
        {
          "output_type": "stream",
          "name": "stdout",
          "text": [
            "[3, 6, 9]\n"
          ]
        }
      ]
    },
    {
      "cell_type": "code",
      "source": [
        "#List Comphrension\n",
        "L = [1,2,3]\n",
        "s = 3\n",
        "x = [i*s for i in L]\n",
        "print(x)"
      ],
      "metadata": {
        "colab": {
          "base_uri": "https://localhost:8080/"
        },
        "id": "nf2svhubHrUr",
        "outputId": "5a88b657-d59b-482c-8758-e2d328830634"
      },
      "execution_count": null,
      "outputs": [
        {
          "output_type": "stream",
          "name": "stdout",
          "text": [
            "[3, 6, 9]\n"
          ]
        }
      ]
    },
    {
      "cell_type": "code",
      "source": [
        "#Print all number divisible by 5 in the range of 1 to 50\n",
        "[i for i in range(1,51) if i%5 == 0]"
      ],
      "metadata": {
        "colab": {
          "base_uri": "https://localhost:8080/"
        },
        "id": "OgUVbtFVIppZ",
        "outputId": "32e68839-eba7-444e-c422-2476e933b9cd"
      },
      "execution_count": null,
      "outputs": [
        {
          "output_type": "execute_result",
          "data": {
            "text/plain": [
              "[5, 10, 15, 20, 25, 30, 35, 40, 45, 50]"
            ]
          },
          "metadata": {},
          "execution_count": 15
        }
      ]
    },
    {
      "cell_type": "code",
      "source": [
        "lang = ['python','java','c', 'php']\n",
        "[language for language in lang if language[0] == 'p'] # we can also make use of startswith"
      ],
      "metadata": {
        "colab": {
          "base_uri": "https://localhost:8080/"
        },
        "id": "9SLcxF8VLIDm",
        "outputId": "d93df24e-d7c7-41ae-e0cd-6388060cac2a"
      },
      "execution_count": null,
      "outputs": [
        {
          "output_type": "execute_result",
          "data": {
            "text/plain": [
              "['python', 'php']"
            ]
          },
          "metadata": {},
          "execution_count": 21
        }
      ]
    },
    {
      "cell_type": "code",
      "source": [
        "#Cartesain product\n",
        "L1 = [1,2,3]\n",
        "L2 = [1,2,3]\n",
        "[i*j for i in L1 for j in L2]"
      ],
      "metadata": {
        "colab": {
          "base_uri": "https://localhost:8080/"
        },
        "id": "ijHOGelxMWHA",
        "outputId": "75bf4191-c79b-4f2a-a345-74b6e7a592fb"
      },
      "execution_count": null,
      "outputs": [
        {
          "output_type": "execute_result",
          "data": {
            "text/plain": [
              "[1, 2, 3, 2, 4, 6, 3, 6, 9]"
            ]
          },
          "metadata": {},
          "execution_count": 22
        }
      ]
    },
    {
      "cell_type": "code",
      "source": [
        "#nested list comprehension\n",
        "fruits = ['apple', 'banana', 'chickoo']\n",
        "my_basket = ['apple', 'banana', 'chickoo']\n",
        "[fruit for fruit in fruits if fruit in my_basket if fruit.startswith('a')]\n"
      ],
      "metadata": {
        "colab": {
          "base_uri": "https://localhost:8080/"
        },
        "id": "BH4sOHZEMV3m",
        "outputId": "ed1861c6-6168-4c4f-ac14-ec43e2efd63e"
      },
      "execution_count": null,
      "outputs": [
        {
          "output_type": "execute_result",
          "data": {
            "text/plain": [
              "['apple']"
            ]
          },
          "metadata": {},
          "execution_count": 24
        }
      ]
    },
    {
      "cell_type": "markdown",
      "source": [
        "Two way to traverse a list\n",
        "\n",
        "\n",
        "*   itemwise\n",
        "*   indexwise\n",
        "\n"
      ],
      "metadata": {
        "id": "l0dYMZ1HRTDQ"
      }
    },
    {
      "cell_type": "code",
      "source": [
        "#itemwise\n",
        "L = [5,6,9,8]\n",
        "\n",
        "for i in L:\n",
        "  print(i)"
      ],
      "metadata": {
        "colab": {
          "base_uri": "https://localhost:8080/"
        },
        "id": "lyz6lNV-Le-Q",
        "outputId": "1144926d-c6b1-4ef1-a144-03d0b32bf7a9"
      },
      "execution_count": null,
      "outputs": [
        {
          "output_type": "stream",
          "name": "stdout",
          "text": [
            "5\n",
            "6\n",
            "9\n",
            "8\n"
          ]
        }
      ]
    },
    {
      "cell_type": "code",
      "source": [
        "#indexwise\n",
        "L = [5,6,9,45]\n",
        "\n",
        "for i in range(0,len(L)):\n",
        "  print(i)"
      ],
      "metadata": {
        "colab": {
          "base_uri": "https://localhost:8080/"
        },
        "id": "nBajslIxLeg0",
        "outputId": "85e0e713-9b02-474b-de88-4da9fb0e61c1"
      },
      "execution_count": null,
      "outputs": [
        {
          "output_type": "stream",
          "name": "stdout",
          "text": [
            "0\n",
            "1\n",
            "2\n",
            "3\n"
          ]
        }
      ]
    },
    {
      "cell_type": "code",
      "source": [
        "#zip comprehension\n",
        "L1 = [21,5,6,56]\n",
        "L2 = [54,6,64,51]\n",
        "\n",
        "print(list(zip(L1,L2))) # We have made a PAIR of both list\n",
        "\n",
        "print([i+j for i,j in zip(L1,L2)])"
      ],
      "metadata": {
        "colab": {
          "base_uri": "https://localhost:8080/"
        },
        "id": "QsHfkLqOTd8Z",
        "outputId": "aa40e604-fb50-4df4-ba9b-6764b41217c0"
      },
      "execution_count": null,
      "outputs": [
        {
          "output_type": "stream",
          "name": "stdout",
          "text": [
            "[(21, 54), (5, 6), (6, 64), (56, 51)]\n",
            "[75, 11, 70, 107]\n"
          ]
        }
      ]
    },
    {
      "cell_type": "code",
      "source": [
        "num = 4.5\n",
        "print(type(num))"
      ],
      "metadata": {
        "colab": {
          "base_uri": "https://localhost:8080/"
        },
        "id": "Q5aeoygH4e4G",
        "outputId": "7a554f93-4bbb-4849-bb7f-ed4bd5716e58"
      },
      "execution_count": null,
      "outputs": [
        {
          "output_type": "stream",
          "name": "stdout",
          "text": [
            "<class 'float'>\n"
          ]
        }
      ]
    }
  ]
}