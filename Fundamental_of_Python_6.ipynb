{
  "nbformat": 4,
  "nbformat_minor": 0,
  "metadata": {
    "colab": {
      "provenance": [],
      "authorship_tag": "ABX9TyPfzC77yizfPH+YCYw3vat0",
      "include_colab_link": true
    },
    "kernelspec": {
      "name": "python3",
      "display_name": "Python 3"
    },
    "language_info": {
      "name": "python"
    }
  },
  "cells": [
    {
      "cell_type": "markdown",
      "metadata": {
        "id": "view-in-github",
        "colab_type": "text"
      },
      "source": [
        "<a href=\"https://colab.research.google.com/github/HG1210/Learn_py/blob/main/Fundamental_of_Python_6.ipynb\" target=\"_parent\"><img src=\"https://colab.research.google.com/assets/colab-badge.svg\" alt=\"Open In Colab\"/></a>"
      ]
    },
    {
      "cell_type": "markdown",
      "source": [
        "03/05/2025\n",
        "Functions"
      ],
      "metadata": {
        "id": "D8EqPGIqyiba"
      }
    },
    {
      "cell_type": "code",
      "execution_count": null,
      "metadata": {
        "id": "HsrgGHD-yXHK"
      },
      "outputs": [],
      "source": [
        "#Lets Create Function using Doc String\n",
        "def is_even(num):\n",
        "  \"\"\"\n",
        "  The function is used for verifying odd and even number\n",
        "  Input - Any Int Value\n",
        "  Output - True or False\n",
        "  \"\"\"\n",
        "  if(num%2==0):\n",
        "    return (\"The number is even\",num)\n",
        "  else:\n",
        "    return (\"The number is odd\",num)"
      ]
    },
    {
      "cell_type": "code",
      "source": [
        "#Print 1 to 10 odd or even\n",
        "for i in range(1,11):\n",
        "  x = is_even(i)\n",
        "  print(x)"
      ],
      "metadata": {
        "colab": {
          "base_uri": "https://localhost:8080/"
        },
        "id": "4cIVGWMDY38-",
        "outputId": "067dc45b-68cb-4baf-bfb6-d9534f08db0a"
      },
      "execution_count": null,
      "outputs": [
        {
          "output_type": "stream",
          "name": "stdout",
          "text": [
            "('The number is odd', 1)\n",
            "('The number is even', 2)\n",
            "('The number is odd', 3)\n",
            "('The number is even', 4)\n",
            "('The number is odd', 5)\n",
            "('The number is even', 6)\n",
            "('The number is odd', 7)\n",
            "('The number is even', 8)\n",
            "('The number is odd', 9)\n",
            "('The number is even', 10)\n"
          ]
        }
      ]
    },
    {
      "cell_type": "code",
      "source": [
        "#Types of Arguments\n",
        "#Default Arguments\n",
        "def is_power(a=1,b=1):\n",
        "  return a**b"
      ],
      "metadata": {
        "id": "NPQ1Ecjabsun"
      },
      "execution_count": null,
      "outputs": []
    },
    {
      "cell_type": "code",
      "source": [
        "total_power = is_power(6,2)\n",
        "print(total_power)\n",
        "\n",
        "#Lets understand the Default Argument\n",
        "#If not based the second argument the system will throw an exception\n",
        "total_power = is_power(2)\n",
        "print(total_power)\n",
        "#Here we will make use of default argument and we will modify the function created."
      ],
      "metadata": {
        "colab": {
          "base_uri": "https://localhost:8080/"
        },
        "id": "NoSOiNahcPNC",
        "outputId": "e1cbe738-8363-456e-de95-d044ce912e11"
      },
      "execution_count": null,
      "outputs": [
        {
          "output_type": "stream",
          "name": "stdout",
          "text": [
            "36\n",
            "2\n"
          ]
        }
      ]
    },
    {
      "cell_type": "code",
      "source": [
        "#Positional Arguments\n",
        "#It has no difference, same as the default arguments. The only thing we should know here is that the value passed doesn't get changed.\n",
        "x = is_power(5,2)\n",
        "print(x)\n"
      ],
      "metadata": {
        "colab": {
          "base_uri": "https://localhost:8080/"
        },
        "id": "VE_7VlC-cxQt",
        "outputId": "7a08c504-6469-4902-e1d9-cfc649a81d32"
      },
      "execution_count": null,
      "outputs": [
        {
          "output_type": "stream",
          "name": "stdout",
          "text": [
            "25\n"
          ]
        }
      ]
    },
    {
      "cell_type": "code",
      "source": [
        "#Keyword Arguments -> No need to know the position of the paramater. Just the name might be eneough\n",
        "x = is_power(b=3,a=2)\n",
        "print(x)"
      ],
      "metadata": {
        "colab": {
          "base_uri": "https://localhost:8080/"
        },
        "id": "xHxpcv74fsoB",
        "outputId": "62eb9edd-2123-4d0e-b4ba-47350882e129"
      },
      "execution_count": null,
      "outputs": [
        {
          "output_type": "stream",
          "name": "stdout",
          "text": [
            "8\n"
          ]
        }
      ]
    },
    {
      "cell_type": "markdown",
      "source": [
        "* args and ** kwargs - Python Keyword to store the variable length of arguments to an function\n",
        "\n",
        "\n",
        "*   Order of arguments matter (matter, args, kwargs)\n",
        "*   We can make use of any name instead of args and kwargs\n",
        "\n"
      ],
      "metadata": {
        "id": "FJcflmF3jzbB"
      }
    },
    {
      "cell_type": "code",
      "source": [
        "#using args we can define any variable numbers of non keyword arguments\n",
        "\n",
        "def is_multiply(* args):\n",
        "  products = 1\n",
        "\n",
        "  for i in args:\n",
        "    products = products * i\n",
        "  return products"
      ],
      "metadata": {
        "id": "RCe8vkEfgNEf"
      },
      "execution_count": null,
      "outputs": []
    },
    {
      "cell_type": "code",
      "source": [
        "# We can make use of args if we are not sure about the total no.of arguments\n",
        "is_multiply(2,5,26)"
      ],
      "metadata": {
        "colab": {
          "base_uri": "https://localhost:8080/"
        },
        "id": "3q_BrDdvkeY3",
        "outputId": "390a2238-4c7c-4bac-d5a3-440d115e1772"
      },
      "execution_count": null,
      "outputs": [
        {
          "output_type": "execute_result",
          "data": {
            "text/plain": [
              "260"
            ]
          },
          "metadata": {},
          "execution_count": 3
        }
      ]
    },
    {
      "cell_type": "code",
      "source": [
        "#To access the function docs string\n",
        "print(print.__doc__)\n",
        "print(is_even.__doc__)"
      ],
      "metadata": {
        "colab": {
          "base_uri": "https://localhost:8080/"
        },
        "id": "90S6duQjliC3",
        "outputId": "769b3513-eaa2-4ef4-e445-1e86f1eed011"
      },
      "execution_count": null,
      "outputs": [
        {
          "output_type": "stream",
          "name": "stdout",
          "text": [
            "Prints the values to a stream, or to sys.stdout by default.\n",
            "\n",
            "  sep\n",
            "    string inserted between values, default a space.\n",
            "  end\n",
            "    string appended after the last value, default a newline.\n",
            "  file\n",
            "    a file-like object (stream); defaults to the current sys.stdout.\n",
            "  flush\n",
            "    whether to forcibly flush the stream.\n",
            "\n",
            "  The function is used for verifying odd and even number\n",
            "  Input - Any Int Value\n",
            "  Output - True or False\n",
            "  \n"
          ]
        }
      ]
    },
    {
      "cell_type": "code",
      "source": [
        "#** kwargs - any number of keyword arguments.\n",
        "#Key value pair\n",
        "def is_display(** kwargs):\n",
        "\n",
        "   for(key,value) in kwargs.items():\n",
        "    if(value == 'campusX'):\n",
        "      return (key,'->',value)\n"
      ],
      "metadata": {
        "id": "67qRy9W6oD2w"
      },
      "execution_count": null,
      "outputs": []
    },
    {
      "cell_type": "code",
      "source": [
        "is_display(name='HG',channel = 'campusX')"
      ],
      "metadata": {
        "colab": {
          "base_uri": "https://localhost:8080/"
        },
        "id": "Bfd2zZ1pmH58",
        "outputId": "459725c2-9911-4f9d-ffe9-6d594488a86e"
      },
      "execution_count": null,
      "outputs": [
        {
          "output_type": "execute_result",
          "data": {
            "text/plain": [
              "('channel', '->', 'campusX')"
            ]
          },
          "metadata": {},
          "execution_count": 26
        }
      ]
    },
    {
      "cell_type": "code",
      "source": [
        "#Function without Return Value\n",
        "L = [1,2,3]\n",
        "print(L.append(5))\n",
        "#The changes are made in the list 'L' but it will show as None."
      ],
      "metadata": {
        "colab": {
          "base_uri": "https://localhost:8080/"
        },
        "id": "2C_XtSUe_XE_",
        "outputId": "78651419-ad55-47b4-a9d2-8657d471c839"
      },
      "execution_count": null,
      "outputs": [
        {
          "output_type": "stream",
          "name": "stdout",
          "text": [
            "None\n"
          ]
        }
      ]
    },
    {
      "cell_type": "code",
      "source": [
        "def f():\n",
        "  def g():\n",
        "    print(\"Inside function g\")\n",
        "  g()\n",
        "  print(\"Inside Function f\")\n",
        "\n",
        "f()"
      ],
      "metadata": {
        "colab": {
          "base_uri": "https://localhost:8080/"
        },
        "id": "CsRiqvqKPm2L",
        "outputId": "b8341b17-232c-416d-8087-2128e6dbe0ca"
      },
      "execution_count": null,
      "outputs": [
        {
          "output_type": "stream",
          "name": "stdout",
          "text": [
            "Inside function g\n",
            "Inside Function f\n"
          ]
        }
      ]
    },
    {
      "cell_type": "markdown",
      "source": [
        "Functions are 1st class citizens\n",
        "Data type as well."
      ],
      "metadata": {
        "id": "OoDQn6etS2gG"
      }
    },
    {
      "cell_type": "code",
      "source": [
        "#reassign Function\n",
        "def square(num):\n",
        "  return num**2\n"
      ],
      "metadata": {
        "id": "wju2HfwkS1rC"
      },
      "execution_count": null,
      "outputs": []
    },
    {
      "cell_type": "code",
      "source": [
        "L = square\n",
        "L\n",
        "print(L(3))"
      ],
      "metadata": {
        "colab": {
          "base_uri": "https://localhost:8080/"
        },
        "id": "6ivSW9vtL2wK",
        "outputId": "fa5c328e-06fd-44cb-c45d-70afe6f68330"
      },
      "execution_count": null,
      "outputs": [
        {
          "output_type": "stream",
          "name": "stdout",
          "text": [
            "9\n"
          ]
        }
      ]
    },
    {
      "cell_type": "code",
      "source": [
        "#type\n",
        "type(square)"
      ],
      "metadata": {
        "colab": {
          "base_uri": "https://localhost:8080/"
        },
        "id": "Qiw5-QjdMH_-",
        "outputId": "2c01e06f-555c-4d87-adee-515a062ab2b4"
      },
      "execution_count": null,
      "outputs": [
        {
          "output_type": "execute_result",
          "data": {
            "text/plain": [
              "function"
            ]
          },
          "metadata": {},
          "execution_count": 8
        }
      ]
    },
    {
      "cell_type": "code",
      "source": [
        "#Del Function\n",
        "del square"
      ],
      "metadata": {
        "id": "S18TEyquMizo"
      },
      "execution_count": null,
      "outputs": []
    },
    {
      "cell_type": "code",
      "source": [
        "#Storing Function -> Similar to int and other data type\n",
        "L = {square}\n",
        "L"
      ],
      "metadata": {
        "colab": {
          "base_uri": "https://localhost:8080/"
        },
        "id": "PvOAeYhlMx7g",
        "outputId": "4380b0cf-7eca-4bd9-c049-68444f7f6224"
      },
      "execution_count": null,
      "outputs": [
        {
          "output_type": "execute_result",
          "data": {
            "text/plain": [
              "{<function __main__.square(num)>}"
            ]
          },
          "metadata": {},
          "execution_count": 15
        }
      ]
    },
    {
      "cell_type": "code",
      "source": [
        "#Returning Function\n",
        "def func_a():\n",
        "  return (\"Logical Function A\")\n",
        "\n",
        "def func_b(z):\n",
        "  print(\"Logical Function B\")\n",
        "  return z()\n",
        "\n",
        "print(func_b(func_a))"
      ],
      "metadata": {
        "colab": {
          "base_uri": "https://localhost:8080/"
        },
        "id": "6lR6ZLpnNEWg",
        "outputId": "dbb0f5a5-a264-4548-d7cb-b8c0786bf89f"
      },
      "execution_count": null,
      "outputs": [
        {
          "output_type": "stream",
          "name": "stdout",
          "text": [
            "Logical Function B\n",
            "Logical Function A\n"
          ]
        }
      ]
    },
    {
      "cell_type": "markdown",
      "source": [
        "Benefits of Function\n",
        "\n",
        "\n",
        "*   Code Readibility\n",
        "*   Code  Modularity\n",
        "*   Code Reusability\n",
        "\n",
        "\n"
      ],
      "metadata": {
        "id": "vlM_t48wNpTj"
      }
    },
    {
      "cell_type": "markdown",
      "source": [
        "Lamda Function is an small anonymous function\n",
        "Can take any number of arguments, but can only have one expression"
      ],
      "metadata": {
        "id": "oygSerioO24_"
      }
    },
    {
      "cell_type": "code",
      "source": [
        "#Lambda Function\n",
        "a = lambda x:x**2\n",
        "print(a(2))"
      ],
      "metadata": {
        "colab": {
          "base_uri": "https://localhost:8080/"
        },
        "id": "R2GSj5X_N-b8",
        "outputId": "95b51028-b48d-431f-cc88-d5c172877cf3"
      },
      "execution_count": null,
      "outputs": [
        {
          "output_type": "stream",
          "name": "stdout",
          "text": [
            "4\n"
          ]
        }
      ]
    },
    {
      "cell_type": "code",
      "source": [
        "#check if a string consist of 'a'\n",
        "x = lambda x:'a' in x\n",
        "print(x('software'))"
      ],
      "metadata": {
        "colab": {
          "base_uri": "https://localhost:8080/"
        },
        "id": "uZC7xM-6Osz3",
        "outputId": "5d7b029e-e07b-4829-afdd-f30362f0b56b"
      },
      "execution_count": null,
      "outputs": [
        {
          "output_type": "stream",
          "name": "stdout",
          "text": [
            "True\n"
          ]
        }
      ]
    },
    {
      "cell_type": "code",
      "source": [
        "#Even or odd\n",
        "x = lambda x:x%2 == 0\n",
        "print(x(9))"
      ],
      "metadata": {
        "colab": {
          "base_uri": "https://localhost:8080/"
        },
        "id": "av-yi62-ZTo_",
        "outputId": "59fc3a80-9cc5-416c-f876-2f6075b30c69"
      },
      "execution_count": null,
      "outputs": [
        {
          "output_type": "stream",
          "name": "stdout",
          "text": [
            "False\n"
          ]
        }
      ]
    },
    {
      "cell_type": "markdown",
      "source": [
        "Higher order function is a function that whose return type is always a function"
      ],
      "metadata": {
        "id": "ZPcARq4jZoQ9"
      }
    },
    {
      "cell_type": "code",
      "source": [
        "#Remaming part of map filter and reduce is pending\n",
        "#Map, filter, reduce we need to make use of lambda expression."
      ],
      "metadata": {
        "id": "Jc3hm0VZefQr"
      },
      "execution_count": null,
      "outputs": []
    }
  ]
}