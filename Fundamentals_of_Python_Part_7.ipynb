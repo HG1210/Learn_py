{
  "nbformat": 4,
  "nbformat_minor": 0,
  "metadata": {
    "colab": {
      "provenance": [],
      "authorship_tag": "ABX9TyPqOmDY1vhKALuWOV6vbUbd",
      "include_colab_link": true
    },
    "kernelspec": {
      "name": "python3",
      "display_name": "Python 3"
    },
    "language_info": {
      "name": "python"
    }
  },
  "cells": [
    {
      "cell_type": "markdown",
      "metadata": {
        "id": "view-in-github",
        "colab_type": "text"
      },
      "source": [
        "<a href=\"https://colab.research.google.com/github/HG1210/Learn_py/blob/main/Fundamentals_of_Python_Part_7.ipynb\" target=\"_parent\"><img src=\"https://colab.research.google.com/assets/colab-badge.svg\" alt=\"Open In Colab\"/></a>"
      ]
    },
    {
      "cell_type": "code",
      "execution_count": null,
      "metadata": {
        "colab": {
          "base_uri": "https://localhost:8080/"
        },
        "id": "skM4akmqfuZx",
        "outputId": "41494138-01df-46ac-d70c-c7fb748255d4"
      },
      "outputs": [
        {
          "output_type": "execute_result",
          "data": {
            "text/plain": [
              "[]"
            ]
          },
          "metadata": {},
          "execution_count": 3
        }
      ],
      "source": [
        "S = []\n",
        "S"
      ]
    },
    {
      "cell_type": "code",
      "source": [
        "L = list()\n",
        "L"
      ],
      "metadata": {
        "colab": {
          "base_uri": "https://localhost:8080/"
        },
        "id": "fl15cJxzoUfY",
        "outputId": "b6e76022-15b2-4df1-87a7-9e897c206807"
      },
      "execution_count": null,
      "outputs": [
        {
          "output_type": "execute_result",
          "data": {
            "text/plain": [
              "[]"
            ]
          },
          "metadata": {},
          "execution_count": 4
        }
      ]
    },
    {
      "cell_type": "markdown",
      "source": [
        "#OOPS Concept\n"
      ],
      "metadata": {
        "id": "M2C4HcOr13su"
      }
    },
    {
      "cell_type": "code",
      "source": [
        "class Atm:\n",
        "#Constructor\n",
        "  def __init__(self):\n",
        "    self.pin = ''\n",
        "    self.balance = ''\n",
        "    self.menu()\n",
        "\n",
        "  def menu(self):\n",
        "      user_input = input(\"\"\"\n",
        "    Hi, How Can We Help You!!!\n",
        "    1. Press 1 To Create New Pin\n",
        "    2. Press 2 To Update ATM Pin\n",
        "    3. Press 3 To Check Balance\n",
        "    4. Press 4 To Withdraw Balance\n",
        "    5. Press Any Key To Exit Except (1-4).\n",
        "        \"\"\")\n",
        "\n",
        "      if user_input == '1':\n",
        "          self.create_pin()\n",
        "      elif user_input == '2':\n",
        "          self.update_pin()\n",
        "      elif user_input == '3':\n",
        "          self.check_balance()\n",
        "      elif user_input == '4':\n",
        "          self.withdrawa_balance()\n",
        "      else:\n",
        "          print(\"Invalid input.\")\n",
        "\n",
        "\n",
        "  def create_pin(self):\n",
        "    user_pin = input(\"Enter the New ATM Pin:\")\n",
        "    self.pin = user_pin\n",
        "    print(\"PIN Created Successfully. Please Enter Your Balance\")\n",
        "    user_balance = int(input(\"Enter the Balance Amount:\"))\n",
        "    self.balance = user_balance\n",
        "    self.menu()\n",
        "\n",
        "  def update_pin(self):\n",
        "    user_existing = input(\"Enter the Previous PIN:\")\n",
        "    if user_existing == self.pin:\n",
        "      user_new = input(\"Enter The New PIN:\")\n",
        "      self.pin = user_new\n",
        "      print(\"ATM PIN Updated.\")\n",
        "      self.menu()\n",
        "    else:\n",
        "      print(\"Set New PIN.\")\n",
        "      self.create_pin()\n",
        "\n",
        "  def check_balance(self):\n",
        "    user_pin = input(\"Enter the PIN:\")\n",
        "    if user_pin == self.pin:\n",
        "      print(\"Your Account Balance:\",self.balance)\n",
        "      self.menu()\n",
        "    else:\n",
        "      print(\"No Information.\")\n",
        "      self.create_pin()\n",
        "\n",
        "  def withdrawa_balance(self):\n",
        "      user_pin = input(\"Enter the PIN:\")\n",
        "      if user_pin == self.pin:\n",
        "        user_withdrawal = int(input(\"Enter the Withdrawal Amount:\"))\n",
        "        total_balance = self.balance - user_withdrawal\n",
        "        print(\"Balance Before Withdrawal:\",self.balance)\n",
        "        print(\"Balance After Withdrawal:\",total_balance)\n",
        "        self.menu()\n",
        "      else:\n",
        "        print(\"PIN Invalid\")\n",
        "        self.create_pin()\n"
      ],
      "metadata": {
        "id": "aLEdGpvm11o3"
      },
      "execution_count": null,
      "outputs": []
    },
    {
      "cell_type": "code",
      "source": [
        "customer = Atm()"
      ],
      "metadata": {
        "colab": {
          "base_uri": "https://localhost:8080/"
        },
        "id": "qzAuTrXR3Qmk",
        "outputId": "3cb2df1e-978c-482c-9ddc-20fc653d08ec"
      },
      "execution_count": null,
      "outputs": [
        {
          "output_type": "stream",
          "name": "stdout",
          "text": [
            "PIN Created Successfully. Please Enter Your Balance\n",
            "Balance Before Withdrawal: 1000\n",
            "Balance After Withdrawal: 800\n",
            "\n",
            "    Hi, How Can We Help You!!!\n",
            "    1. Press 1 To Create New Pin\n",
            "    2. Press 2 To Update ATM Pin\n",
            "    3. Press 3 To Check Balance\n",
            "    4. Press 4 To Withdraw Balance\n",
            "    5. Press Any Key To Exit Except (1-4).\n",
            "        5\n",
            "Invalid input.\n"
          ]
        }
      ]
    },
    {
      "cell_type": "markdown",
      "source": [
        "Creating Data Type"
      ],
      "metadata": {
        "id": "8UXdacWGkVSZ"
      }
    },
    {
      "cell_type": "code",
      "source": [
        "class Fraction:\n",
        "\n",
        "  def __init__(self,num,deno):\n",
        "    self.num = num\n",
        "    self.deno = deno\n",
        "\n",
        "  #__str__ - magic method\n",
        "  def __str__(self):\n",
        "    return \"{}/{}\".format(self.num,self.deno)\n",
        "\n",
        "  def __add__(self,other):\n",
        "    new_num = self.num * other.deno + other.num * self.deno\n",
        "    new_deno = self.deno * other.deno\n",
        "    return \"{}/{}\".format(new_num, new_deno)\n",
        "\n",
        "  def __truediv__ (self,other):\n",
        "    new_num = self.num * other.deno\n",
        "    new_deno = self.deno * other.num\n",
        "    return \"{}/{}\".format(new_num, new_deno)\n"
      ],
      "metadata": {
        "id": "wr0ELX9GkYsu"
      },
      "execution_count": null,
      "outputs": []
    },
    {
      "cell_type": "code",
      "source": [
        "fr = Fraction(5,2)\n",
        "print(fr)"
      ],
      "metadata": {
        "colab": {
          "base_uri": "https://localhost:8080/"
        },
        "id": "Ody1lZn0ktXB",
        "outputId": "1797b7ee-ba82-461c-a414-f1d5078d3a6d"
      },
      "execution_count": null,
      "outputs": [
        {
          "output_type": "stream",
          "name": "stdout",
          "text": [
            "5/2\n"
          ]
        }
      ]
    },
    {
      "cell_type": "code",
      "source": [
        "fr1 = Fraction(5,2)\n",
        "fr2 = Fraction(2,5)\n",
        "print(\"Fraction Addition:\",fr1 + fr2)\n",
        "print(\"Fraction Division:\",fr1 / fr2)\n"
      ],
      "metadata": {
        "colab": {
          "base_uri": "https://localhost:8080/"
        },
        "id": "f2VOdkEdmoXT",
        "outputId": "c114e578-3a75-4498-f76e-4e872cf220b9"
      },
      "execution_count": null,
      "outputs": [
        {
          "output_type": "stream",
          "name": "stdout",
          "text": [
            "Fraction Addition: 29/10\n",
            "Fraction Division: 25/4\n"
          ]
        }
      ]
    },
    {
      "cell_type": "markdown",
      "source": [
        "#Write OOP classes to handle the following scenarios:\n",
        "A user can create and view 2D coordinates\n",
        "A user can find out the distance between 2 coordinates\n",
        "A user can find find the distance of a coordinate from origin\n",
        "A user can check if a point lies on a given line\n",
        "A user can find the distance between a given 2D point and a given line"
      ],
      "metadata": {
        "id": "dp_TFyNh1WAA"
      }
    },
    {
      "cell_type": "code",
      "source": [
        "from re import A\n",
        "class Point:\n",
        "\n",
        "  def __init__(self,x,y):\n",
        "    self.x_cord = x\n",
        "    self.y_cord = y\n",
        "\n",
        "  def __str__(self):\n",
        "    return '<{},{}>'.format(self.x_cord,self.y_cord)\n",
        "\n",
        "  def euclidean_Distance(self,other):\n",
        "    return ((other.x_cord - self.x_cord)**2 + (other.y_cord - self.y_cord)**2)**0.5\n",
        "\n",
        "class Line:\n",
        "\n",
        "  def __init__(self,A,B,C):\n",
        "    self.A = A\n",
        "    self.B = B\n",
        "    self.C = C\n",
        "\n",
        "  def __str__(self):\n",
        "    return '{}x + {}y + {}'.format(self.A,self.B,self.C)\n",
        "\n",
        "  def shortest_Distance(self,other):\n",
        "    return abs(self.A*other.x_cord + self.B*other.y_cord + self.C)/((self.A**2 + self.B**2)**0.5)"
      ],
      "metadata": {
        "id": "4SJ4zwCB1UtD"
      },
      "execution_count": null,
      "outputs": []
    },
    {
      "cell_type": "code",
      "source": [
        "pt1 = Point(1,2)\n",
        "print(pt1)\n",
        "\n",
        "p1 = Point(1, 2)\n",
        "p2 = Point(4, 6)\n",
        "print(p1.euclidean_Distance(p2))\n",
        "\n",
        "l1 = Line(1,2,5)\n",
        "print(l1)\n",
        "\n",
        "print(l1.shortest_Distance(p2))"
      ],
      "metadata": {
        "colab": {
          "base_uri": "https://localhost:8080/"
        },
        "id": "nMikFrDB17h6",
        "outputId": "0fce4106-43c7-4b4f-e048-ecf6936a450f"
      },
      "execution_count": null,
      "outputs": [
        {
          "output_type": "stream",
          "name": "stdout",
          "text": [
            "<1,2>\n",
            "5.0\n",
            "1x + 2y + 5\n",
            "9.391485505499116\n"
          ]
        }
      ]
    },
    {
      "cell_type": "code",
      "source": [
        "class Person:\n",
        "\n",
        "  def __init__(self,name,country):\n",
        "    self.name = name\n",
        "    self.country = country\n",
        "\n",
        "  def greet(self):\n",
        "    if(self.country == 'India'):\n",
        "      print('Namaste',self.name)\n",
        "    else:\n",
        "      print('Good Morning',self.name)\n"
      ],
      "metadata": {
        "id": "sUhNdT7K9MvX"
      },
      "execution_count": null,
      "outputs": []
    },
    {
      "cell_type": "code",
      "source": [
        "p = Person('CampusX','India')\n",
        "#How To Access Attributes/Data/Variable\n",
        "p.country"
      ],
      "metadata": {
        "colab": {
          "base_uri": "https://localhost:8080/",
          "height": 35
        },
        "id": "gYH90YB697JL",
        "outputId": "bab186ce-00c2-4ab0-b09b-07a6f3efe434"
      },
      "execution_count": null,
      "outputs": [
        {
          "output_type": "execute_result",
          "data": {
            "text/plain": [
              "'India'"
            ],
            "application/vnd.google.colaboratory.intrinsic+json": {
              "type": "string"
            }
          },
          "metadata": {},
          "execution_count": 26
        }
      ]
    },
    {
      "cell_type": "code",
      "source": [
        "p = Person('CampusX','India')\n",
        "#How To Access Methods\n",
        "p.greet()"
      ],
      "metadata": {
        "colab": {
          "base_uri": "https://localhost:8080/"
        },
        "id": "hsAMv7NP-TGp",
        "outputId": "5498efea-c460-4b38-ed9b-b03b3af00437"
      },
      "execution_count": null,
      "outputs": [
        {
          "output_type": "stream",
          "name": "stdout",
          "text": [
            "Namaste CampusX\n"
          ]
        }
      ]
    },
    {
      "cell_type": "code",
      "source": [
        "#Attribute Creation Outside of The Class\n",
        "p.gender = 'Male'"
      ],
      "metadata": {
        "id": "5Jtt5bjY-9hM"
      },
      "execution_count": null,
      "outputs": []
    },
    {
      "cell_type": "code",
      "source": [
        "#Accesing Object through List/Dictionary\n",
        "class Person:\n",
        "\n",
        "  def __init__(self,name,country):\n",
        "    self.name = name\n",
        "    self.country = country\n",
        "\n",
        "p1 = Person('CampusX','India')\n",
        "p2 = Person('Nilay','Aus')\n",
        "\n",
        "L = [p1,p2]\n",
        "\n",
        "for i in L:\n",
        "  print(i.name)\n",
        "\n",
        "\n",
        "D = {'p1':p1,'p2':p2}\n",
        "for i in D:\n",
        "  print(D[i].country)\n"
      ],
      "metadata": {
        "colab": {
          "base_uri": "https://localhost:8080/"
        },
        "id": "lm9jwO15VIqd",
        "outputId": "108f4e64-2e47-458f-a0fb-5e307fc50e6e"
      },
      "execution_count": null,
      "outputs": [
        {
          "output_type": "stream",
          "name": "stdout",
          "text": [
            "CampusX\n",
            "Nilay\n",
            "India\n",
            "Aus\n"
          ]
        }
      ]
    },
    {
      "cell_type": "code",
      "source": [
        "#Aggregation - One class owns to the other class.\n",
        "class Customer:\n",
        "  def __init__(self,name,gender,address):\n",
        "    self.name = name\n",
        "    self.gender = gender\n",
        "    self.address = address\n",
        "\n",
        "  def print_address(self):\n",
        "    return {self.address.city, self.address.state, self.address.pincode}\n",
        "\n",
        "class Address:\n",
        "  def __init__(self,city,state,pincode):\n",
        "    self.city = city\n",
        "    self.state = state\n",
        "    self.pincode = pincode\n",
        "\n",
        "addr = Address('Baroda','Gujarat','390003')\n",
        "cust = Customer('CampusX','Male',addr)\n",
        "\n",
        "cust.print_address()"
      ],
      "metadata": {
        "colab": {
          "base_uri": "https://localhost:8080/"
        },
        "id": "5IfczqeU9dwv",
        "outputId": "736121d8-1cdc-4ebf-bfe8-24746e9b13a6"
      },
      "execution_count": null,
      "outputs": [
        {
          "output_type": "execute_result",
          "data": {
            "text/plain": [
              "{'390003', 'Baroda', 'Gujarat'}"
            ]
          },
          "metadata": {},
          "execution_count": 8
        }
      ]
    },
    {
      "cell_type": "code",
      "source": [
        "#Inheritance - Child class can access all the property of parent class\n",
        "class User:\n",
        "  def __init__(self):\n",
        "    self.name = 'campusX'\n",
        "\n",
        "  def login(self):\n",
        "    print('login')\n",
        "\n",
        "class Student(User):\n",
        "  def enroll(self):\n",
        "    print('enroll')\n",
        "\n",
        "u = User()\n",
        "s = Student()\n",
        "\n",
        "s.login()\n",
        "s.enroll()\n",
        "s.name"
      ],
      "metadata": {
        "colab": {
          "base_uri": "https://localhost:8080/"
        },
        "id": "2KpON2XQIa0b",
        "outputId": "a51fdd5d-41d1-4379-dfce-401ea07193fb"
      },
      "execution_count": null,
      "outputs": [
        {
          "output_type": "stream",
          "name": "stdout",
          "text": [
            "login\n",
            "enroll\n",
            "login\n"
          ]
        }
      ]
    },
    {
      "cell_type": "code",
      "source": [],
      "metadata": {
        "id": "0RSqBs8FIb_l"
      },
      "execution_count": null,
      "outputs": []
    }
  ]
}