{
  "nbformat": 4,
  "nbformat_minor": 0,
  "metadata": {
    "colab": {
      "provenance": [],
      "authorship_tag": "ABX9TyOooK3oE3LFdmr4mKkWQwso",
      "include_colab_link": true
    },
    "kernelspec": {
      "name": "python3",
      "display_name": "Python 3"
    },
    "language_info": {
      "name": "python"
    }
  },
  "cells": [
    {
      "cell_type": "markdown",
      "metadata": {
        "id": "view-in-github",
        "colab_type": "text"
      },
      "source": [
        "<a href=\"https://colab.research.google.com/github/HG1210/Learn_py/blob/main/Fundamental_of_Python_5.ipynb\" target=\"_parent\"><img src=\"https://colab.research.google.com/assets/colab-badge.svg\" alt=\"Open In Colab\"/></a>"
      ]
    },
    {
      "cell_type": "markdown",
      "source": [
        "27/05/2025\n",
        "\n",
        "\n",
        "1.   Tuple\n",
        "2.   Sets\n",
        "3.   Dictionary\n",
        "\n"
      ],
      "metadata": {
        "id": "blTw8fEA-_AK"
      }
    },
    {
      "cell_type": "code",
      "execution_count": null,
      "metadata": {
        "colab": {
          "base_uri": "https://localhost:8080/"
        },
        "id": "R0iwDfwr-4jA",
        "outputId": "cc2055e2-72d6-4ddb-bccc-a9be7b9f9ecc"
      },
      "outputs": [
        {
          "output_type": "stream",
          "name": "stdout",
          "text": [
            "()\n",
            "(41,)\n",
            "<class 'tuple'>\n",
            "(1, 2, 36)\n",
            "(1, 2, True, [1, 2])\n",
            "('H', 'a', 'r', 's', 'h')\n"
          ]
        }
      ],
      "source": [
        "#Create a tuple with single item. -> Imp\n",
        "tup1 = () #Empty Tuple\n",
        "print(tup1)\n",
        "#Here Come the single item tuple\n",
        "tup = (41,)\n",
        "print(tup)\n",
        "print(type(tup))\n",
        "\n",
        "#Homo\n",
        "t2 = (1,2,36)\n",
        "print(t2)\n",
        "\n",
        "#Hetro\n",
        "t3= (1,2,True,[1,2])\n",
        "print(t3)\n",
        "\n",
        "#Tuple Function\n",
        "print(tuple('Harsh'))"
      ]
    },
    {
      "cell_type": "code",
      "source": [
        "#Accessing Item in a list\n",
        "#Indexing\n",
        "t3 = (41,59,5,6)\n",
        "print(t3[2])"
      ],
      "metadata": {
        "colab": {
          "base_uri": "https://localhost:8080/"
        },
        "id": "1byuMS6nFWEi",
        "outputId": "43c2b198-c452-4392-c720-0cea00198ea0"
      },
      "execution_count": null,
      "outputs": [
        {
          "output_type": "stream",
          "name": "stdout",
          "text": [
            "5\n"
          ]
        }
      ]
    },
    {
      "cell_type": "code",
      "source": [
        "#Slicing\n",
        "t4 = (1,5,6,['HG'])\n",
        "print(t4[2:4])\n",
        "print(t4[::-1]) #Reverse the string"
      ],
      "metadata": {
        "colab": {
          "base_uri": "https://localhost:8080/"
        },
        "id": "0R408CrcFo7-",
        "outputId": "1701d113-a394-47ff-f8bf-21172333c352"
      },
      "execution_count": null,
      "outputs": [
        {
          "output_type": "stream",
          "name": "stdout",
          "text": [
            "(6, ['HG'])\n",
            "(['HG'], 6, 5, 1)\n"
          ]
        }
      ]
    },
    {
      "cell_type": "markdown",
      "source": [
        "Operation on Tuple"
      ],
      "metadata": {
        "id": "4bJEQoD-IEu1"
      }
    },
    {
      "cell_type": "code",
      "source": [
        "#Adding or multiplicaton\n",
        "t6 = (1,58,45,5,45)\n",
        "t7 = (5,45,88,4,1)\n",
        "print(t6 + t7)\n",
        "\n",
        "#Multiplication\n",
        "print(t7*2)\n",
        "\n",
        "#Membership\n",
        "print(88 in t7)\n",
        "\n",
        "#iterable\n",
        "for i in t6:\n",
        "  print(i,end=\" \")"
      ],
      "metadata": {
        "colab": {
          "base_uri": "https://localhost:8080/"
        },
        "id": "G2h6zJF3II0I",
        "outputId": "21bb8295-067e-4e16-8eb2-ed8e0ad10afa"
      },
      "execution_count": null,
      "outputs": [
        {
          "output_type": "stream",
          "name": "stdout",
          "text": [
            "(1, 58, 45, 5, 45, 5, 45, 88, 4, 1)\n",
            "(5, 45, 88, 4, 1, 5, 45, 88, 4, 1)\n",
            "True\n",
            "1 58 45 5 45 "
          ]
        }
      ]
    },
    {
      "cell_type": "markdown",
      "source": [
        "Tuple Function"
      ],
      "metadata": {
        "id": "GeIS9kzvJdhv"
      }
    },
    {
      "cell_type": "code",
      "source": [
        "#len/min/max/sorted/sum\n",
        "t8 = (4,5,9,1,9,561)\n",
        "print(len(t8))\n",
        "print(max(t8))\n",
        "print(min(t8))\n",
        "print(sorted(t8,reverse=True))\n",
        "print(sum(t8))"
      ],
      "metadata": {
        "colab": {
          "base_uri": "https://localhost:8080/"
        },
        "id": "sfDra3R2JdC_",
        "outputId": "06037882-f683-4ce2-c323-f0785d29cb8e"
      },
      "execution_count": null,
      "outputs": [
        {
          "output_type": "stream",
          "name": "stdout",
          "text": [
            "6\n",
            "561\n",
            "1\n",
            "[561, 9, 9, 5, 4, 1]\n",
            "589\n"
          ]
        }
      ]
    },
    {
      "cell_type": "code",
      "source": [
        "#Count -> For Tuple\n",
        "print(t8)\n",
        "print(t8.count(9))"
      ],
      "metadata": {
        "colab": {
          "base_uri": "https://localhost:8080/"
        },
        "id": "N52oDREQKDTY",
        "outputId": "6684ede3-f0a9-4904-b2a7-f76ac1fbc511"
      },
      "execution_count": null,
      "outputs": [
        {
          "output_type": "stream",
          "name": "stdout",
          "text": [
            "(4, 5, 9, 1, 9, 561)\n",
            "2\n"
          ]
        }
      ]
    },
    {
      "cell_type": "code",
      "source": [
        "#index\n",
        "print(t8)\n",
        "print(t8.index(9))"
      ],
      "metadata": {
        "colab": {
          "base_uri": "https://localhost:8080/"
        },
        "id": "234YR_fyKPzZ",
        "outputId": "a4bb640b-96a8-465f-d566-e18863339fba"
      },
      "execution_count": null,
      "outputs": [
        {
          "output_type": "stream",
          "name": "stdout",
          "text": [
            "(4, 5, 9, 1, 9, 561)\n",
            "2\n"
          ]
        }
      ]
    },
    {
      "cell_type": "code",
      "source": [
        "#Tuple unpacking\n",
        "a,b,c = (1,2,3)\n",
        "print(a,b,c)\n",
        "print(b)"
      ],
      "metadata": {
        "colab": {
          "base_uri": "https://localhost:8080/"
        },
        "id": "lcTfZ2hMNrqD",
        "outputId": "992cc45a-d32a-4a5e-8c1a-00afda744455"
      },
      "execution_count": null,
      "outputs": [
        {
          "output_type": "stream",
          "name": "stdout",
          "text": [
            "1 2 3\n",
            "2\n"
          ]
        }
      ]
    },
    {
      "cell_type": "code",
      "source": [
        "#Use tuple unpacking concept - swap number\n",
        "a = 1\n",
        "b = 2\n",
        "a,b = b,a\n",
        "print(a,b)"
      ],
      "metadata": {
        "colab": {
          "base_uri": "https://localhost:8080/"
        },
        "id": "S3xmQ0CrN15E",
        "outputId": "f3502f61-d444-441a-d5d9-040bef1692b8"
      },
      "execution_count": null,
      "outputs": [
        {
          "output_type": "stream",
          "name": "stdout",
          "text": [
            "2 1\n"
          ]
        }
      ]
    },
    {
      "cell_type": "code",
      "source": [
        "#*others\n",
        "a,b,c,*others = (1,2,9,6,5,6)\n",
        "print(a,b,c)\n",
        "print(*others)"
      ],
      "metadata": {
        "colab": {
          "base_uri": "https://localhost:8080/"
        },
        "id": "kIxHUrEnN_Zl",
        "outputId": "108cf56b-f6aa-49cf-aac4-309bab40b425"
      },
      "execution_count": null,
      "outputs": [
        {
          "output_type": "stream",
          "name": "stdout",
          "text": [
            "1 2 9\n",
            "6 5 6\n"
          ]
        }
      ]
    },
    {
      "cell_type": "code",
      "source": [
        "t1 = (1,5,9,6)\n",
        "t2 = (25,98,9,5)\n",
        "\n",
        "tuple(zip(t1,t2))"
      ],
      "metadata": {
        "colab": {
          "base_uri": "https://localhost:8080/"
        },
        "id": "ljrDlvTvXVmq",
        "outputId": "4f026df9-c831-4d1b-ed63-e976c77b3494"
      },
      "execution_count": null,
      "outputs": [
        {
          "output_type": "execute_result",
          "data": {
            "text/plain": [
              "((1, 25), (5, 98), (9, 9), (6, 5))"
            ]
          },
          "metadata": {},
          "execution_count": 30
        }
      ]
    },
    {
      "cell_type": "markdown",
      "source": [
        "Sets\n",
        "unordered collection of items\n",
        "mutable\n",
        "cannot contain mutable datatypes.\n",
        "elemets must be unique"
      ],
      "metadata": {
        "id": "5lrgHKKbaIIR"
      }
    },
    {
      "cell_type": "code",
      "source": [
        "#Empty sets\n",
        "s = set()\n",
        "print(s)\n",
        "#We can't create 2d sets\n",
        "s1 = {2,5,3}\n",
        "print(s1)\n",
        "#Homo - same datatype\n",
        "s2 = {45,'HG',456}\n",
        "print(s2)\n",
        "#We cant use list because it's mutable\n",
        "s3 = {1,5,(5,6)}\n",
        "print(s3)\n",
        "#duplicate not allowed\n",
        "s4 = 1,1,2,5,2,56\n",
        "print(s4)\n",
        "#type conversion\n",
        "sd = set([1,5,5])\n",
        "print(sd)"
      ],
      "metadata": {
        "colab": {
          "base_uri": "https://localhost:8080/"
        },
        "id": "8iIE1BJiaHmt",
        "outputId": "d7629435-13aa-44fe-a745-e33e8a1fe952"
      },
      "execution_count": null,
      "outputs": [
        {
          "output_type": "stream",
          "name": "stdout",
          "text": [
            "set()\n",
            "{2, 3, 5}\n",
            "{456, 'HG', 45}\n",
            "{1, 5, (5, 6)}\n",
            "(1, 1, 2, 5, 2, 56)\n",
            "{1, 5}\n"
          ]
        }
      ]
    },
    {
      "cell_type": "code",
      "source": [
        "#Unordered collection of item\n",
        "s1 = {1,2,3}\n",
        "s2 ={3,2,1}\n",
        "s1 == s2"
      ],
      "metadata": {
        "colab": {
          "base_uri": "https://localhost:8080/"
        },
        "id": "h2_8j-syte7M",
        "outputId": "07f652a4-097d-4332-ac51-baa2ac103df3"
      },
      "execution_count": null,
      "outputs": [
        {
          "output_type": "execute_result",
          "data": {
            "text/plain": [
              "True"
            ]
          },
          "metadata": {},
          "execution_count": 35
        }
      ]
    },
    {
      "cell_type": "code",
      "source": [
        "#Accessing item is not possible using indexing and slicing\n",
        "#Editing item\n",
        "#Single Element Insertion\n",
        "s1 = {1,2,3}\n",
        "s1.add(4)\n",
        "print(s1)\n",
        "\n",
        "#Multiple Element Insertion\n",
        "s2 = {1,2,3}\n",
        "s2.update([9,8,6])\n",
        "print(s2)"
      ],
      "metadata": {
        "colab": {
          "base_uri": "https://localhost:8080/"
        },
        "id": "Eo49UuJ511js",
        "outputId": "900b6cfd-f436-4582-e242-d147345c1649"
      },
      "execution_count": null,
      "outputs": [
        {
          "output_type": "stream",
          "name": "stdout",
          "text": [
            "{1, 2, 3, 4}\n",
            "{1, 2, 3, 6, 8, 9}\n"
          ]
        }
      ]
    },
    {
      "cell_type": "code",
      "source": [
        "#Deletion\n",
        "s8 = {1,2,6,9,8}\n",
        "\n",
        "#pop - randomly will delete any elements\n",
        "s8.pop()\n",
        "print(s8)\n",
        "\n",
        "#discard\n",
        "s8.discard(6)\n",
        "print(s8)\n",
        "\n",
        "#Remove\n",
        "s8.remove(2)\n",
        "print(s8)\n",
        "\n",
        "#clear\n",
        "s8.clear()\n",
        "print(s8)"
      ],
      "metadata": {
        "colab": {
          "base_uri": "https://localhost:8080/"
        },
        "id": "WeIDn_P43hvN",
        "outputId": "49bdd056-e225-4806-a85e-5b48df5de015"
      },
      "execution_count": null,
      "outputs": [
        {
          "output_type": "stream",
          "name": "stdout",
          "text": [
            "{2, 6, 8, 9}\n",
            "{2, 8, 9}\n",
            "{8, 9}\n",
            "set()\n"
          ]
        }
      ]
    },
    {
      "cell_type": "code",
      "source": [
        "#Set operation\n",
        "s1 = {1,2,3,4,5}\n",
        "s2 = {4,5,6,7,8}\n",
        "\n",
        "#Union(|) - All the item in both will be printed exactly once\n",
        "print(s1 | s2)\n",
        "\n",
        "#Intersection(&) - Only common item will be shown\n",
        "print(s1 & s2)\n",
        "\n",
        "#Difference(-) - All the item of s1 that are not present in s2\n",
        "print(s1-s2)\n",
        "\n",
        "#Symmetric Difference(^) - The common once will not be shown\n",
        "print(s1^s2)\n",
        "\n",
        "#Membership - not in and in\n",
        "print(4 in s2)\n",
        "\n",
        "#Iterable\n",
        "for i in s1:\n",
        "  print(i,end=\" \")"
      ],
      "metadata": {
        "colab": {
          "base_uri": "https://localhost:8080/"
        },
        "id": "syDe0oRA5sJ4",
        "outputId": "7efe148d-158d-4508-f3ae-2430a0f3e873"
      },
      "execution_count": null,
      "outputs": [
        {
          "output_type": "stream",
          "name": "stdout",
          "text": [
            "{1, 2, 3, 4, 5, 6, 7, 8}\n",
            "{4, 5}\n",
            "{1, 2, 3}\n",
            "{1, 2, 3, 6, 7, 8}\n",
            "True\n",
            "1 2 3 4 5 "
          ]
        }
      ]
    },
    {
      "cell_type": "code",
      "source": [
        "# Sets Function\n",
        "#len/sum/clear/min/max/sorted\n",
        "s1 = {1,2,6,9}\n",
        "print(len(s1))\n",
        "print(min(s1))\n",
        "print(max(s1))\n",
        "print(sum(s1))\n",
        "print(sorted(s1,reverse=True)) #Sorted Result will be in a list"
      ],
      "metadata": {
        "colab": {
          "base_uri": "https://localhost:8080/"
        },
        "id": "c00lZWx__ME8",
        "outputId": "c43a5a3c-bbca-4580-db2e-650211f31b0e"
      },
      "execution_count": null,
      "outputs": [
        {
          "output_type": "stream",
          "name": "stdout",
          "text": [
            "4\n",
            "1\n",
            "9\n",
            "18\n",
            "[9, 6, 2, 1]\n"
          ]
        }
      ]
    },
    {
      "cell_type": "code",
      "source": [
        "#union/union_update\n",
        "s1 = {1,2,3,4}\n",
        "s2 = {3,4,5,6}\n",
        "\n",
        "print(s1.union(s2))\n",
        "s1.update(s2)\n",
        "print(s1)"
      ],
      "metadata": {
        "colab": {
          "base_uri": "https://localhost:8080/"
        },
        "id": "kOWN13J8_egW",
        "outputId": "718542af-db7f-4316-b65e-e88f37e46d61"
      },
      "execution_count": null,
      "outputs": [
        {
          "output_type": "stream",
          "name": "stdout",
          "text": [
            "{1, 2, 3, 4, 5, 6}\n",
            "{1, 2, 3, 4, 5, 6}\n"
          ]
        }
      ]
    },
    {
      "cell_type": "code",
      "source": [
        "#Intersection/intersection_update\n",
        "#union/union_update\n",
        "s1 = {1,2,3,4}\n",
        "s2 = {3,4,5,6}\n",
        "\n",
        "print(s1.intersection(s2))\n",
        "s1.intersection_update(s2)\n",
        "print(s1)\n",
        "print(s2)"
      ],
      "metadata": {
        "colab": {
          "base_uri": "https://localhost:8080/"
        },
        "id": "1ZGdMVjyAQ3v",
        "outputId": "a22df706-af63-4a78-fdb2-398edb126b95"
      },
      "execution_count": null,
      "outputs": [
        {
          "output_type": "stream",
          "name": "stdout",
          "text": [
            "{3, 4}\n",
            "{3, 4}\n",
            "{3, 4, 5, 6}\n"
          ]
        }
      ]
    },
    {
      "cell_type": "code",
      "source": [
        "#Difference/Difference_update\n",
        "s1 = {1,2,3,4}\n",
        "s2 = {3,4,5,6}\n",
        "\n",
        "print(s1.difference(s2))\n",
        "s1.difference_update(s2)\n",
        "print(s1)\n",
        "print(s2)"
      ],
      "metadata": {
        "colab": {
          "base_uri": "https://localhost:8080/"
        },
        "id": "9iOEEpoQAiJV",
        "outputId": "785b9b82-7cf9-41e3-ea47-89735c08fb17"
      },
      "execution_count": null,
      "outputs": [
        {
          "output_type": "stream",
          "name": "stdout",
          "text": [
            "{1, 2}\n",
            "{1, 2}\n",
            "{3, 4, 5, 6}\n"
          ]
        }
      ]
    },
    {
      "cell_type": "code",
      "source": [
        "#Symmetric Difference\n",
        "s1 = {1,2,3,4}\n",
        "s2 = {3,4,5,6}\n",
        "\n",
        "print(s1.symmetric_difference(s2))\n",
        "s1.symmetric_difference_update(s2)\n",
        "print(s1)\n",
        "print(s2)"
      ],
      "metadata": {
        "colab": {
          "base_uri": "https://localhost:8080/"
        },
        "id": "r_dyakm1AkLt",
        "outputId": "664defb1-8dae-4f60-c4a1-5143660f9842"
      },
      "execution_count": null,
      "outputs": [
        {
          "output_type": "stream",
          "name": "stdout",
          "text": [
            "{1, 2, 5, 6}\n",
            "{1, 2, 5, 6}\n",
            "{3, 4, 5, 6}\n"
          ]
        }
      ]
    },
    {
      "cell_type": "code",
      "source": [
        "#isdisjoint - both the element should be totally different. No matching element should be present\n",
        "s1 = {1,2,3,4}\n",
        "s2 = {5,6,7,8}\n",
        "print(s1.isdisjoint(s2))\n"
      ],
      "metadata": {
        "colab": {
          "base_uri": "https://localhost:8080/"
        },
        "id": "KjasalZZA5h0",
        "outputId": "9cb398aa-790e-4c88-a799-53fb57c11878"
      },
      "execution_count": null,
      "outputs": [
        {
          "output_type": "stream",
          "name": "stdout",
          "text": [
            "True\n"
          ]
        }
      ]
    },
    {
      "cell_type": "code",
      "source": [
        "#issubset\n",
        "s1 = {1,2,3,4,5}\n",
        "s2 ={3,4,5}\n",
        "\n",
        "print(s2.issubset(s1))\n",
        "print(s1.issuperset(s2))"
      ],
      "metadata": {
        "colab": {
          "base_uri": "https://localhost:8080/"
        },
        "id": "akmipCkMBORG",
        "outputId": "90e55632-0d4a-450e-a04c-b268cff5ed00"
      },
      "execution_count": null,
      "outputs": [
        {
          "output_type": "stream",
          "name": "stdout",
          "text": [
            "True\n",
            "True\n"
          ]
        }
      ]
    },
    {
      "cell_type": "markdown",
      "source": [
        "Frozenset - immutable sets of python"
      ],
      "metadata": {
        "id": "xRTxiVNmCXzQ"
      }
    },
    {
      "cell_type": "code",
      "source": [
        "#All read function will work\n",
        "s1 = frozenset([1,2,3])\n",
        "print(s1)"
      ],
      "metadata": {
        "colab": {
          "base_uri": "https://localhost:8080/"
        },
        "id": "q6MDkMv_CW6H",
        "outputId": "3f2d82b9-c9c5-4a29-d914-b3cbe7f1bff0"
      },
      "execution_count": null,
      "outputs": [
        {
          "output_type": "stream",
          "name": "stdout",
          "text": [
            "frozenset({1, 2, 3})\n"
          ]
        }
      ]
    },
    {
      "cell_type": "code",
      "source": [
        "#2d Frozenset\n",
        "fs1 = frozenset([1,2,frozenset([1,2])])\n",
        "print(fs1)"
      ],
      "metadata": {
        "colab": {
          "base_uri": "https://localhost:8080/"
        },
        "id": "m9DbxLnkC6QG",
        "outputId": "b100199a-a71d-4a86-8f68-cfd50d0a73ab"
      },
      "execution_count": null,
      "outputs": [
        {
          "output_type": "stream",
          "name": "stdout",
          "text": [
            "frozenset({1, 2, frozenset({1, 2})})\n"
          ]
        }
      ]
    },
    {
      "cell_type": "markdown",
      "source": [
        "03/05/2025\n",
        "Dictionary - Set of key value pair\n",
        "\n",
        "*   Mutable\n",
        "*   Used to store value like map\n",
        "*   Indexing has no meaning\n",
        "*   key can't be mutable and can't be duplicated000\n",
        "\n",
        "\n",
        "\n",
        "\n",
        "\n"
      ],
      "metadata": {
        "id": "68hMp8pAp040"
      }
    },
    {
      "cell_type": "code",
      "source": [
        "#Empty Dict\n",
        "dict1 = {}\n",
        "print(dict1)\n",
        "#1D Dict\n",
        "dict1={'name':'Harsh','Interest':'Python'}\n",
        "print(dict1)\n",
        "#with Mixed keys\n",
        "dict1 = {(11,2,3):1,'name':'gandhi'}\n",
        "print(dict1)\n",
        "\n",
        "#2D Dict\n",
        "dict1 = {'name':'harsh','Subjects':{\n",
        "    'Physics':90,\n",
        "    'Math':85\n",
        "}}\n",
        "print(dict1)\n",
        "\n",
        "#Using sequence and dict function\n",
        "dict1 = dict([('name','harsh'),('age','10')])\n",
        "print(dict1)"
      ],
      "metadata": {
        "colab": {
          "base_uri": "https://localhost:8080/"
        },
        "id": "qZkuBzTFpzTe",
        "outputId": "c939ebcf-4678-4d7b-ead6-663a57672cfc"
      },
      "execution_count": null,
      "outputs": [
        {
          "output_type": "stream",
          "name": "stdout",
          "text": [
            "{}\n",
            "{'name': 'Harsh', 'Interest': 'Python'}\n",
            "{(11, 2, 3): 1, 'name': 'gandhi'}\n",
            "{'name': 'harsh', 'Subjects': {'Physics': 90, 'Math': 85}}\n",
            "{'name': 'harsh', 'age': '10'}\n"
          ]
        }
      ]
    },
    {
      "cell_type": "code",
      "source": [
        "#Accessing Item\n",
        "dict1 = {'name':'Python','Master':'CampusX'}\n",
        "print(dict1['name'])\n",
        "#Make use of get as well\n",
        "print(dict1.get('Master'))"
      ],
      "metadata": {
        "colab": {
          "base_uri": "https://localhost:8080/"
        },
        "id": "Zgct3dMHwUjV",
        "outputId": "a7b63346-9380-4233-e807-ffb4edaa222d"
      },
      "execution_count": null,
      "outputs": [
        {
          "output_type": "stream",
          "name": "stdout",
          "text": [
            "Python\n",
            "CampusX\n"
          ]
        }
      ]
    },
    {
      "cell_type": "code",
      "source": [
        "#Add Item\n",
        "dict2 = {'age':'10', 'supports':'Family'}\n",
        "print(dict2)\n",
        "dict2['name'] = 'Home'\n",
        "print(dict2)"
      ],
      "metadata": {
        "colab": {
          "base_uri": "https://localhost:8080/"
        },
        "id": "QmA5wVrPyNdv",
        "outputId": "a131d5e5-7fec-46f0-8201-c5fbad0508e2"
      },
      "execution_count": null,
      "outputs": [
        {
          "output_type": "stream",
          "name": "stdout",
          "text": [
            "{'age': '10', 'supports': 'Family'}\n",
            "{'age': '10', 'supports': 'Family', 'name': 'Home'}\n"
          ]
        }
      ]
    },
    {
      "cell_type": "code",
      "source": [
        "#Removing key-value pairs\n",
        "dict2 = {'age':'10', 'supports':'Family','name':'ghar'}\n",
        "dict2.pop('age')\n",
        "print(dict2.popitem()) #Delete the last item.\n",
        "print(dict2)\n",
        "print(dict2.clear())"
      ],
      "metadata": {
        "colab": {
          "base_uri": "https://localhost:8080/"
        },
        "id": "zjF68KjZ1aeG",
        "outputId": "ca3e6ede-7ac7-47d5-9c09-912c9ba8c984"
      },
      "execution_count": null,
      "outputs": [
        {
          "output_type": "stream",
          "name": "stdout",
          "text": [
            "('name', 'ghar')\n",
            "{'supports': 'Family'}\n",
            "None\n"
          ]
        }
      ]
    },
    {
      "cell_type": "code",
      "source": [
        "#Dictionary operation\n",
        "s = {'name':'hg','age':'12','sub':\n",
        " {'math':10,'phy':15}\n",
        "}\n",
        "print(s)\n",
        "#Membership -> In dictionary it will always check the key and not the value\n",
        "print('name' in s)\n",
        "print('hg' in s)\n",
        "\n",
        "#Iteration\n",
        "for i in s:\n",
        "  print(s[i],end = \" \")\n",
        "\n"
      ],
      "metadata": {
        "colab": {
          "base_uri": "https://localhost:8080/"
        },
        "id": "qM_Tih5H104R",
        "outputId": "f4e115ca-677f-4f5e-81b0-b01ae4c4e4e2"
      },
      "execution_count": null,
      "outputs": [
        {
          "output_type": "stream",
          "name": "stdout",
          "text": [
            "{'name': 'hg', 'age': '12', 'sub': {'math': 10, 'phy': 15}}\n",
            "True\n",
            "False\n",
            "hg 12 {'math': 10, 'phy': 15} "
          ]
        }
      ]
    },
    {
      "cell_type": "code",
      "source": [
        "#Dict Operation\n",
        "print(s)\n",
        "print(len(s))\n",
        "print(min(s))\n",
        "print(max(s))\n",
        "print(sorted(s))"
      ],
      "metadata": {
        "colab": {
          "base_uri": "https://localhost:8080/"
        },
        "id": "bna9xxdI9QTW",
        "outputId": "e1e5be35-092c-49bf-838a-e3904afdb99a"
      },
      "execution_count": null,
      "outputs": [
        {
          "output_type": "stream",
          "name": "stdout",
          "text": [
            "{'name': 'hg', 'age': '12', 'sub': {'math': 10, 'phy': 15}}\n",
            "3\n",
            "age\n",
            "sub\n",
            "['age', 'name', 'sub']\n"
          ]
        }
      ]
    },
    {
      "cell_type": "code",
      "source": [
        "#keys/value/items\n",
        "print(s.items())\n",
        "print(s.keys())\n",
        "print(s.values())\n"
      ],
      "metadata": {
        "colab": {
          "base_uri": "https://localhost:8080/"
        },
        "id": "9C5JEITQ9m3A",
        "outputId": "584245d6-fb5f-474b-b685-888af6324265"
      },
      "execution_count": null,
      "outputs": [
        {
          "output_type": "stream",
          "name": "stdout",
          "text": [
            "dict_items([('name', 'hg'), ('age', '12'), ('sub', {'math': 10, 'phy': 15})])\n",
            "dict_keys(['name', 'age', 'sub'])\n",
            "dict_values(['hg', '12', {'math': 10, 'phy': 15}])\n"
          ]
        }
      ]
    },
    {
      "cell_type": "code",
      "source": [
        "#Update\n",
        "s2 = {'operation':'dictionary'}\n",
        "s.update(s2)\n",
        "print(s)"
      ],
      "metadata": {
        "colab": {
          "base_uri": "https://localhost:8080/"
        },
        "id": "dVcgiuNo9sQA",
        "outputId": "7545bed2-19aa-4105-9879-2b79b65ba976"
      },
      "execution_count": null,
      "outputs": [
        {
          "output_type": "stream",
          "name": "stdout",
          "text": [
            "{'name': 'hg', 'age': '12', 'sub': {'math': 10, 'phy': 15}, 'operation': 'dictionary'}\n"
          ]
        }
      ]
    },
    {
      "cell_type": "code",
      "source": [
        "#Dict Comprehension\n",
        "#numbers 1 to 10\n",
        "{i:i*2 for i in range(1,11)}"
      ],
      "metadata": {
        "colab": {
          "base_uri": "https://localhost:8080/"
        },
        "id": "QF26mcCDA44l",
        "outputId": "90d05ded-16be-4253-eff2-4d7e20a0c575"
      },
      "execution_count": null,
      "outputs": [
        {
          "output_type": "execute_result",
          "data": {
            "text/plain": [
              "{1: 2, 2: 4, 3: 6, 4: 8, 5: 10, 6: 12, 7: 14, 8: 16, 9: 18, 10: 20}"
            ]
          },
          "metadata": {},
          "execution_count": 48
        }
      ]
    },
    {
      "cell_type": "code",
      "source": [
        "#Use Existing Dic\n",
        "s = {'name':'hg','age':'12','sub':\n",
        "    {'math':10,'phy':15}}\n",
        "print({i:j for (i,j) in s.items()})\n",
        "print({i for (i) in s.keys()})"
      ],
      "metadata": {
        "colab": {
          "base_uri": "https://localhost:8080/"
        },
        "id": "mkJhhq1eBRAY",
        "outputId": "595c17c3-b704-429e-e5ad-ce03cb3d75b9"
      },
      "execution_count": null,
      "outputs": [
        {
          "output_type": "stream",
          "name": "stdout",
          "text": [
            "{'name': 'hg', 'age': '12', 'sub': {'math': 10, 'phy': 15}}\n",
            "{'sub', 'age', 'name'}\n"
          ]
        }
      ]
    },
    {
      "cell_type": "code",
      "source": [
        "#Two Different List using Zip\n",
        "s = [\"Name\",\"Age\",\"Hours\"]\n",
        "t = [\"Harsh\",\"10\",\"12\"]\n",
        "{i:j for (i,j) in zip(s,t)}"
      ],
      "metadata": {
        "colab": {
          "base_uri": "https://localhost:8080/"
        },
        "id": "XKBu91dCCFUj",
        "outputId": "5d6da5c4-24d9-4253-fd15-43bff0e5b430"
      },
      "execution_count": null,
      "outputs": [
        {
          "output_type": "execute_result",
          "data": {
            "text/plain": [
              "{'Name': 'Harsh', 'Age': '10', 'Hours': '12'}"
            ]
          },
          "metadata": {},
          "execution_count": 57
        }
      ]
    },
    {
      "cell_type": "code",
      "source": [
        "# Nesded Dict Comprehension\n",
        "{i:{j:i*j for j in range(1,11)} for i in range(2,5)}"
      ],
      "metadata": {
        "colab": {
          "base_uri": "https://localhost:8080/"
        },
        "id": "QLjNLBaOxSqI",
        "outputId": "baedf143-ea27-4e38-9f20-f86fa11f1f7a"
      },
      "execution_count": null,
      "outputs": [
        {
          "output_type": "execute_result",
          "data": {
            "text/plain": [
              "{2: {1: 2, 2: 4, 3: 6, 4: 8, 5: 10, 6: 12, 7: 14, 8: 16, 9: 18, 10: 20},\n",
              " 3: {1: 3, 2: 6, 3: 9, 4: 12, 5: 15, 6: 18, 7: 21, 8: 24, 9: 27, 10: 30},\n",
              " 4: {1: 4, 2: 8, 3: 12, 4: 16, 5: 20, 6: 24, 7: 28, 8: 32, 9: 36, 10: 40}}"
            ]
          },
          "metadata": {},
          "execution_count": 3
        }
      ]
    }
  ]
}