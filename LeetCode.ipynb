{
  "nbformat": 4,
  "nbformat_minor": 0,
  "metadata": {
    "colab": {
      "provenance": [],
      "authorship_tag": "ABX9TyOGOP7mWGy7qRgeiDwEarDB",
      "include_colab_link": true
    },
    "kernelspec": {
      "name": "python3",
      "display_name": "Python 3"
    },
    "language_info": {
      "name": "python"
    }
  },
  "cells": [
    {
      "cell_type": "markdown",
      "metadata": {
        "id": "view-in-github",
        "colab_type": "text"
      },
      "source": [
        "<a href=\"https://colab.research.google.com/github/HG1210/Learn_py/blob/main/LeetCode.ipynb\" target=\"_parent\"><img src=\"https://colab.research.google.com/assets/colab-badge.svg\" alt=\"Open In Colab\"/></a>"
      ]
    },
    {
      "cell_type": "code",
      "source": [
        "2sentence = str(input(\"Enter the sentence\"))\n",
        "str_sentence = sentence.split()\n",
        "s = \" \".join(str_sentence[::-1])\n",
        "print(s)\n"
      ],
      "metadata": {
        "id": "tAsgJIUc5FG7",
        "colab": {
          "base_uri": "https://localhost:8080/"
        },
        "outputId": "37c99907-58bd-48c0-92c0-675ae3dabf80"
      },
      "execution_count": null,
      "outputs": [
        {
          "output_type": "stream",
          "name": "stdout",
          "text": [
            "Enter the sentencehello\n",
            "hello\n"
          ]
        }
      ]
    },
    {
      "cell_type": "code",
      "execution_count": null,
      "metadata": {
        "colab": {
          "base_uri": "https://localhost:8080/"
        },
        "id": "cDihNxoi5Dxb",
        "outputId": "a354c136-dbd7-4602-e4e7-385e066dddb3"
      },
      "outputs": [
        {
          "output_type": "stream",
          "name": "stdout",
          "text": [
            "Enter the word: hello\n",
            "['o', 'l', 'l', 'e', 'h']\n"
          ]
        }
      ],
      "source": [
        "word = str(input(\"Enter the word: \"))\n",
        "word_1 = list(word)\n",
        "word_1.reverse()\n",
        "print(word_1)"
      ]
    },
    {
      "cell_type": "code",
      "source": [
        "class Solution(object):\n",
        "    def reverseString(self, s):\n",
        "        a =list(s)\n",
        "        a.reverse()\n",
        "        return a\n",
        "\n",
        "obj = Solution()\n",
        "obj.reverseString('hello')\n"
      ],
      "metadata": {
        "colab": {
          "base_uri": "https://localhost:8080/"
        },
        "id": "1skB5Df-5Ywz",
        "outputId": "f2da6289-f43c-4582-b038-a1826e285137"
      },
      "execution_count": null,
      "outputs": [
        {
          "output_type": "execute_result",
          "data": {
            "text/plain": [
              "['o', 'l', 'l', 'e', 'h']"
            ]
          },
          "metadata": {},
          "execution_count": 36
        }
      ]
    },
    {
      "cell_type": "code",
      "source": [
        "s = input(\"Enter the value\")\n",
        "b = input(\"Enter the Value\")\n",
        "print(s)\n",
        "print(b)\n",
        "s,b = b,s\n",
        "print(s)\n",
        "print(b)\n"
      ],
      "metadata": {
        "colab": {
          "base_uri": "https://localhost:8080/"
        },
        "id": "8tpUMWIH8dFB",
        "outputId": "4b13769c-095b-4968-a63c-6cb49e5a35df"
      },
      "execution_count": null,
      "outputs": [
        {
          "output_type": "stream",
          "name": "stdout",
          "text": [
            "Enter the value23\n",
            "Enter the Value66\n",
            "23\n",
            "66\n",
            "66\n",
            "23\n"
          ]
        }
      ]
    },
    {
      "cell_type": "code",
      "source": [
        "#Factorial\n",
        "fact = int(input(\"Enter the value:\"))\n",
        "for i in range(fact):\n",
        "  if(i == 0):\n",
        "    pass\n",
        "  else:\n",
        "    fact = fact*i\n",
        "\n",
        "if (fact == 0):\n",
        "  print(1)\n",
        "else:\n",
        "  print(fact)\n"
      ],
      "metadata": {
        "colab": {
          "base_uri": "https://localhost:8080/"
        },
        "id": "k2dRNfuK8xTM",
        "outputId": "6c9cb609-637e-4a03-fa85-26afe3def220"
      },
      "execution_count": null,
      "outputs": [
        {
          "output_type": "stream",
          "name": "stdout",
          "text": [
            "Enter the value:5\n",
            "120\n"
          ]
        }
      ]
    },
    {
      "cell_type": "code",
      "source": [
        "# Palindrome Check\n",
        "s = input(\"Enter the string: \")\n",
        "if s == s[::-1]:\n",
        "    print(\"Palindrome\")\n",
        "else:\n",
        "    print(\"Not Palindrome\")\n"
      ],
      "metadata": {
        "colab": {
          "base_uri": "https://localhost:8080/"
        },
        "id": "jdQs5HN8Gm2F",
        "outputId": "16febf05-9083-4571-e08e-d2f3567fbbe8"
      },
      "execution_count": null,
      "outputs": [
        {
          "output_type": "stream",
          "name": "stdout",
          "text": [
            "Enter the string: -121\n",
            "Not Palindrome\n"
          ]
        }
      ]
    },
    {
      "cell_type": "code",
      "source": [
        "num = input(\"Enter a number: \")      # e.g., 123\n",
        "digits = [int(d) for d in num]         # [1, 2, 3]\n",
        "\n",
        "cube_sum = 0\n",
        "for d in digits:\n",
        "    cube_sum += d ** 3               # Add cube of each digit\n",
        "\n",
        "print(\"Sum of cubes of digits:\", cube_sum)\n"
      ],
      "metadata": {
        "colab": {
          "base_uri": "https://localhost:8080/"
        },
        "id": "iGh0Tm7OGpnL",
        "outputId": "f6af4a18-38f2-4d91-ce28-f5486bf518a8"
      },
      "execution_count": null,
      "outputs": [
        {
          "output_type": "stream",
          "name": "stdout",
          "text": [
            "Enter a number: 125\n",
            "Sum of cubes of digits: 134\n"
          ]
        }
      ]
    },
    {
      "cell_type": "code",
      "source": [
        "a = int(input(\"Enter the value\"))\n",
        "print(a**3)\n",
        "\n",
        "a = str(input(\"Enter the string\"))\n",
        "b = a.split()\n",
        "c = list(b)\n",
        "print(c)"
      ],
      "metadata": {
        "colab": {
          "base_uri": "https://localhost:8080/"
        },
        "id": "hMYpO2kMMgpr",
        "outputId": "45b527d1-d802-4338-a7f6-46fc726e72c1"
      },
      "execution_count": null,
      "outputs": [
        {
          "output_type": "stream",
          "name": "stdout",
          "text": [
            "Enter the value12\n",
            "1728\n",
            "Enter the string123\n",
            "['123']\n"
          ]
        }
      ]
    },
    {
      "cell_type": "code",
      "source": [
        "a = str(input(\"Enter the string\"))\n",
        "b = list(a)\n",
        "for i in b:\n",
        "  print([int(i)])"
      ],
      "metadata": {
        "colab": {
          "base_uri": "https://localhost:8080/"
        },
        "id": "HlgNcm5QR41F",
        "outputId": "198f69ce-7672-4b03-d861-c22e399d2219"
      },
      "execution_count": null,
      "outputs": [
        {
          "output_type": "stream",
          "name": "stdout",
          "text": [
            "Enter the string123\n",
            "[1]\n",
            "[2]\n",
            "[3]\n"
          ]
        }
      ]
    }
  ]
}