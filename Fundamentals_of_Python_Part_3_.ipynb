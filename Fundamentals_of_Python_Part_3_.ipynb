{
  "nbformat": 4,
  "nbformat_minor": 0,
  "metadata": {
    "colab": {
      "provenance": [],
      "authorship_tag": "ABX9TyMxTfA0YKk1vtGb0TzxHUMy",
      "include_colab_link": true
    },
    "kernelspec": {
      "name": "python3",
      "display_name": "Python 3"
    },
    "language_info": {
      "name": "python"
    }
  },
  "cells": [
    {
      "cell_type": "markdown",
      "metadata": {
        "id": "view-in-github",
        "colab_type": "text"
      },
      "source": [
        "<a href=\"https://colab.research.google.com/github/HG1210/Learn_py/blob/main/Fundamentals_of_Python_Part_3_.ipynb\" target=\"_parent\"><img src=\"https://colab.research.google.com/assets/colab-badge.svg\" alt=\"Open In Colab\"/></a>"
      ]
    },
    {
      "cell_type": "markdown",
      "source": [
        "05-04-2025/05-05-2025\n",
        "\n",
        "\n",
        "1.   Loops(break, continue, pass)\n",
        "2.   Pattern\n",
        "3.   Logical operator for string -> Important interview concept\n",
        "\n"
      ],
      "metadata": {
        "id": "x-uOVrc4_ABR"
      }
    },
    {
      "cell_type": "code",
      "execution_count": null,
      "metadata": {
        "colab": {
          "base_uri": "https://localhost:8080/"
        },
        "id": "VivS_nFf-kHS",
        "outputId": "ac7181b8-ca7b-49d3-f2e4-10140d5933b1"
      },
      "outputs": [
        {
          "output_type": "stream",
          "name": "stdout",
          "text": [
            "Enter the number of terms: 5\n",
            "2.708333333333333\n"
          ]
        }
      ],
      "source": [
        "# 1/1! + 2/2! + 3/3! .....\n",
        "sequence = int(input(\"Enter the number of terms: \"))\n",
        "result = 0\n",
        "fact = 1\n",
        "for i in range(1, sequence+1):\n",
        "  fact = fact * i\n",
        "  result = result + i/fact\n",
        "\n",
        "print(result)"
      ]
    },
    {
      "cell_type": "code",
      "source": [
        "\n",
        "a = int(input(\"Enter the number of rows: \"))\n",
        "for i in range(1, a+1):\n",
        "    for j in range(1, i+1):\n",
        "        print(\"*\", end='')\n",
        "    print()\n",
        "\n"
      ],
      "metadata": {
        "colab": {
          "base_uri": "https://localhost:8080/"
        },
        "id": "D_DQOp28TGa-",
        "outputId": "375aeeb0-57bf-4796-8ee2-b3bfb08c98e3"
      },
      "execution_count": null,
      "outputs": [
        {
          "output_type": "stream",
          "name": "stdout",
          "text": [
            "Enter the number of rows: 4\n",
            "*\n",
            "**\n",
            "***\n",
            "****\n"
          ]
        }
      ]
    },
    {
      "cell_type": "code",
      "source": [
        "a = int(input(\"Enter the number of rows: \"))\n",
        "for i in range(1, a+1):\n",
        "    for j in range(1, i+1):\n",
        "        print(j, end='')\n",
        "    for k in range(i-1,0,-1):\n",
        "         print(k, end='')\n",
        "    print()"
      ],
      "metadata": {
        "colab": {
          "base_uri": "https://localhost:8080/"
        },
        "id": "a3iSB0WOZBSt",
        "outputId": "1b6acd54-cbcb-4e57-9118-152ac48e92e1"
      },
      "execution_count": null,
      "outputs": [
        {
          "output_type": "stream",
          "name": "stdout",
          "text": [
            "Enter the number of rows: 5\n",
            "1\n",
            "121\n",
            "12321\n",
            "1234321\n",
            "123454321\n"
          ]
        }
      ]
    },
    {
      "cell_type": "code",
      "source": [
        "from word2number import w2n\n",
        "\n",
        "text = \"thousand\"\n",
        "number = w2n.word_to_num(text)\n",
        "print(number)\n"
      ],
      "metadata": {
        "colab": {
          "base_uri": "https://localhost:8080/",
          "height": 395
        },
        "id": "1OWACzSrxqbQ",
        "outputId": "65d87b6e-cc6e-459a-8164-57b5a99765f2"
      },
      "execution_count": null,
      "outputs": [
        {
          "output_type": "error",
          "ename": "ModuleNotFoundError",
          "evalue": "No module named 'word2number'",
          "traceback": [
            "\u001b[0;31m---------------------------------------------------------------------------\u001b[0m",
            "\u001b[0;31mModuleNotFoundError\u001b[0m                       Traceback (most recent call last)",
            "\u001b[0;32m<ipython-input-2-c0fc3b8f1ff1>\u001b[0m in \u001b[0;36m<cell line: 0>\u001b[0;34m()\u001b[0m\n\u001b[0;32m----> 1\u001b[0;31m \u001b[0;32mfrom\u001b[0m \u001b[0mword2number\u001b[0m \u001b[0;32mimport\u001b[0m \u001b[0mw2n\u001b[0m\u001b[0;34m\u001b[0m\u001b[0;34m\u001b[0m\u001b[0m\n\u001b[0m\u001b[1;32m      2\u001b[0m \u001b[0;34m\u001b[0m\u001b[0m\n\u001b[1;32m      3\u001b[0m \u001b[0mtext\u001b[0m \u001b[0;34m=\u001b[0m \u001b[0;34m\"thousand\"\u001b[0m\u001b[0;34m\u001b[0m\u001b[0;34m\u001b[0m\u001b[0m\n\u001b[1;32m      4\u001b[0m \u001b[0mnumber\u001b[0m \u001b[0;34m=\u001b[0m \u001b[0mw2n\u001b[0m\u001b[0;34m.\u001b[0m\u001b[0mword_to_num\u001b[0m\u001b[0;34m(\u001b[0m\u001b[0mtext\u001b[0m\u001b[0;34m)\u001b[0m\u001b[0;34m\u001b[0m\u001b[0;34m\u001b[0m\u001b[0m\n\u001b[1;32m      5\u001b[0m \u001b[0mprint\u001b[0m\u001b[0;34m(\u001b[0m\u001b[0mnumber\u001b[0m\u001b[0;34m)\u001b[0m\u001b[0;34m\u001b[0m\u001b[0;34m\u001b[0m\u001b[0m\n",
            "\u001b[0;31mModuleNotFoundError\u001b[0m: No module named 'word2number'",
            "",
            "\u001b[0;31m---------------------------------------------------------------------------\u001b[0;32m\nNOTE: If your import is failing due to a missing package, you can\nmanually install dependencies using either !pip or !apt.\n\nTo view examples of installing some common dependencies, click the\n\"Open Examples\" button below.\n\u001b[0;31m---------------------------------------------------------------------------\u001b[0m\n"
          ],
          "errorDetails": {
            "actions": [
              {
                "action": "open_url",
                "actionText": "Open Examples",
                "url": "/notebooks/snippets/importing_libraries.ipynb"
              }
            ]
          }
        }
      ]
    },
    {
      "cell_type": "code",
      "source": [
        "list = [False, True,\"2\",78]\n",
        "b= 0 in list\n",
        "print(b)"
      ],
      "metadata": {
        "id": "IagEuQcRaqcX",
        "colab": {
          "base_uri": "https://localhost:8080/"
        },
        "outputId": "bedfed31-8c70-48a3-e4fe-1269c95f8b7f"
      },
      "execution_count": null,
      "outputs": [
        {
          "output_type": "stream",
          "name": "stdout",
          "text": [
            "True\n"
          ]
        }
      ]
    },
    {
      "cell_type": "markdown",
      "source": [
        "String - Unicode\n",
        "Sequence of character.\n",
        "String are immutable. Once created can't be changed"
      ],
      "metadata": {
        "id": "Qt-gn7lj-Xk0"
      }
    },
    {
      "cell_type": "code",
      "source": [
        "#indexing\n",
        "ind = \"PCEP\"\n",
        "print(ind[2])\n"
      ],
      "metadata": {
        "colab": {
          "base_uri": "https://localhost:8080/"
        },
        "id": "gLemqUDj-VM_",
        "outputId": "7af53887-b266-4935-8733-c0ae9b37dbe5"
      },
      "execution_count": null,
      "outputs": [
        {
          "output_type": "stream",
          "name": "stdout",
          "text": [
            "E\n"
          ]
        }
      ]
    },
    {
      "cell_type": "code",
      "source": [
        "#Del String\n",
        "strhg = \"PCEP\"\n",
        "del strhg\n",
        "print(strhg)"
      ],
      "metadata": {
        "colab": {
          "base_uri": "https://localhost:8080/",
          "height": 181
        },
        "id": "Re1DjgzCEK3u",
        "outputId": "049026cc-6061-4bed-feaf-e10d59d52c66"
      },
      "execution_count": null,
      "outputs": [
        {
          "output_type": "error",
          "ename": "NameError",
          "evalue": "name 'strhg' is not defined",
          "traceback": [
            "\u001b[0;31m---------------------------------------------------------------------------\u001b[0m",
            "\u001b[0;31mNameError\u001b[0m                                 Traceback (most recent call last)",
            "\u001b[0;32m<ipython-input-1-0cba0869c660>\u001b[0m in \u001b[0;36m<cell line: 0>\u001b[0;34m()\u001b[0m\n\u001b[1;32m      2\u001b[0m \u001b[0mstrhg\u001b[0m \u001b[0;34m=\u001b[0m \u001b[0;34m\"PCEP\"\u001b[0m\u001b[0;34m\u001b[0m\u001b[0;34m\u001b[0m\u001b[0m\n\u001b[1;32m      3\u001b[0m \u001b[0;32mdel\u001b[0m \u001b[0mstrhg\u001b[0m\u001b[0;34m\u001b[0m\u001b[0;34m\u001b[0m\u001b[0m\n\u001b[0;32m----> 4\u001b[0;31m \u001b[0mprint\u001b[0m\u001b[0;34m(\u001b[0m\u001b[0mstrhg\u001b[0m\u001b[0;34m)\u001b[0m\u001b[0;34m\u001b[0m\u001b[0;34m\u001b[0m\u001b[0m\n\u001b[0m",
            "\u001b[0;31mNameError\u001b[0m: name 'strhg' is not defined"
          ]
        }
      ]
    },
    {
      "cell_type": "code",
      "source": [
        "print('harsh'*5,end='|',sep='-')"
      ],
      "metadata": {
        "colab": {
          "base_uri": "https://localhost:8080/"
        },
        "id": "9XsMf_9z6KTU",
        "outputId": "9f9b3d91-a977-45bc-db99-f439fd7cff3f"
      },
      "execution_count": null,
      "outputs": [
        {
          "output_type": "stream",
          "name": "stdout",
          "text": [
            "harshharshharshharshharsh|"
          ]
        }
      ]
    },
    {
      "cell_type": "code",
      "source": [
        "print('harsh' and 'gandhi')"
      ],
      "metadata": {
        "colab": {
          "base_uri": "https://localhost:8080/"
        },
        "id": "jqIkK2SQ8t4N",
        "outputId": "7765c79e-d731-4af8-c33d-a6e9f13c5a5a"
      },
      "execution_count": null,
      "outputs": [
        {
          "output_type": "stream",
          "name": "stdout",
          "text": [
            "gandhi\n"
          ]
        }
      ]
    },
    {
      "cell_type": "code",
      "source": [
        "print('' and 'gandhi')"
      ],
      "metadata": {
        "colab": {
          "base_uri": "https://localhost:8080/"
        },
        "id": "qwt9eUB28t_Q",
        "outputId": "d39b2479-28f9-4b5e-ac9a-f788a06671b5"
      },
      "execution_count": null,
      "outputs": [
        {
          "output_type": "stream",
          "name": "stdout",
          "text": [
            "\n"
          ]
        }
      ]
    },
    {
      "cell_type": "code",
      "source": [
        "print(' ' and 'gandhi')"
      ],
      "metadata": {
        "colab": {
          "base_uri": "https://localhost:8080/"
        },
        "id": "VY7SCFMh9ByN",
        "outputId": "2dccb556-2911-4945-9b84-ff64bfd7059f"
      },
      "execution_count": null,
      "outputs": [
        {
          "output_type": "stream",
          "name": "stdout",
          "text": [
            "gandhi\n"
          ]
        }
      ]
    },
    {
      "cell_type": "code",
      "source": [
        "print('harsh' or 'gandhi')"
      ],
      "metadata": {
        "colab": {
          "base_uri": "https://localhost:8080/"
        },
        "id": "k9-ZBgH89Gzv",
        "outputId": "157acd6f-42b6-401a-bc5a-35aa826098c4"
      },
      "execution_count": null,
      "outputs": [
        {
          "output_type": "stream",
          "name": "stdout",
          "text": [
            "harsh\n"
          ]
        }
      ]
    },
    {
      "cell_type": "code",
      "source": [
        "print('' or 'gandhi')"
      ],
      "metadata": {
        "colab": {
          "base_uri": "https://localhost:8080/"
        },
        "id": "mSfpFh979LCN",
        "outputId": "60a7dda2-0dc4-448d-904c-ec616f91e5e1"
      },
      "execution_count": null,
      "outputs": [
        {
          "output_type": "stream",
          "name": "stdout",
          "text": [
            "gandhi\n"
          ]
        }
      ]
    },
    {
      "cell_type": "code",
      "source": [
        "print (\" ' \" or 'gandhi')\n",
        "#Logical Operator"
      ],
      "metadata": {
        "colab": {
          "base_uri": "https://localhost:8080/"
        },
        "id": "8Gl2aDPS9Q4A",
        "outputId": "27cc6c43-eaf8-4eca-c1d2-f6519c4a1711"
      },
      "execution_count": null,
      "outputs": [
        {
          "output_type": "stream",
          "name": "stdout",
          "text": [
            " ' \n"
          ]
        }
      ]
    },
    {
      "cell_type": "markdown",
      "source": [
        "Common Function\n",
        "max\n",
        "min\n",
        "sorted\n",
        "len"
      ],
      "metadata": {
        "id": "G1AHo7HC_eEO"
      }
    },
    {
      "cell_type": "code",
      "source": [
        "len('harsh')"
      ],
      "metadata": {
        "colab": {
          "base_uri": "https://localhost:8080/"
        },
        "id": "JvyINe5q_bpj",
        "outputId": "4088ad70-3b65-4113-ec78-c9d9e6e6ee94"
      },
      "execution_count": null,
      "outputs": [
        {
          "output_type": "execute_result",
          "data": {
            "text/plain": [
              "5"
            ]
          },
          "metadata": {},
          "execution_count": 16
        }
      ]
    },
    {
      "cell_type": "code",
      "source": [
        "max('harsh')"
      ],
      "metadata": {
        "colab": {
          "base_uri": "https://localhost:8080/",
          "height": 36
        },
        "id": "HOeP3V8n_ged",
        "outputId": "22c8653a-1844-41f3-c592-b127c8f266d5"
      },
      "execution_count": null,
      "outputs": [
        {
          "output_type": "execute_result",
          "data": {
            "text/plain": [
              "'s'"
            ],
            "application/vnd.google.colaboratory.intrinsic+json": {
              "type": "string"
            }
          },
          "metadata": {},
          "execution_count": 17
        }
      ]
    },
    {
      "cell_type": "code",
      "source": [
        "min('harsh')"
      ],
      "metadata": {
        "colab": {
          "base_uri": "https://localhost:8080/",
          "height": 36
        },
        "id": "kNmyaNfV_3iI",
        "outputId": "b4210e94-6a3b-4fc2-bd40-405dbccac09b"
      },
      "execution_count": null,
      "outputs": [
        {
          "output_type": "execute_result",
          "data": {
            "text/plain": [
              "'a'"
            ],
            "application/vnd.google.colaboratory.intrinsic+json": {
              "type": "string"
            }
          },
          "metadata": {},
          "execution_count": 18
        }
      ]
    },
    {
      "cell_type": "code",
      "source": [
        "name =['1','5','2','3']\n",
        "sorted(name,reverse=True)"
      ],
      "metadata": {
        "colab": {
          "base_uri": "https://localhost:8080/"
        },
        "id": "ryKdz9Vf_6DH",
        "outputId": "f88174c4-7cb9-4e9e-ed47-40ef27622ffc"
      },
      "execution_count": null,
      "outputs": [
        {
          "output_type": "execute_result",
          "data": {
            "text/plain": [
              "['5', '3', '2', '1']"
            ]
          },
          "metadata": {},
          "execution_count": 27
        }
      ]
    },
    {
      "cell_type": "markdown",
      "source": [
        "Function that would work with the string only\n",
        "capitalize, Title, Upper,Lower, Swapcase\n",
        "Swapcase -> Lower letter into Upper and vice versa"
      ],
      "metadata": {
        "id": "xpWyn__ABLVO"
      }
    },
    {
      "cell_type": "code",
      "source": [
        "word = 'software harsh'\n",
        "a=word.capitalize()\n",
        "b=word.title()\n",
        "c=word.upper()\n",
        "print(a,b,c, sep='\\n')"
      ],
      "metadata": {
        "colab": {
          "base_uri": "https://localhost:8080/"
        },
        "id": "cvf95tseBw5i",
        "outputId": "f1d4560f-609d-469d-8a9a-896f05aaab34"
      },
      "execution_count": null,
      "outputs": [
        {
          "output_type": "stream",
          "name": "stdout",
          "text": [
            "Software harsh\n",
            "Software Harsh\n",
            "SOFTWARE HARSH\n"
          ]
        }
      ]
    },
    {
      "cell_type": "code",
      "source": [
        "'HARSH'.lower()\n"
      ],
      "metadata": {
        "colab": {
          "base_uri": "https://localhost:8080/",
          "height": 36
        },
        "id": "wS_V6IWIBKQy",
        "outputId": "329f23ac-8a2d-4a74-c1b2-59b739f2c87f"
      },
      "execution_count": null,
      "outputs": [
        {
          "output_type": "execute_result",
          "data": {
            "text/plain": [
              "'harsh'"
            ],
            "application/vnd.google.colaboratory.intrinsic+json": {
              "type": "string"
            }
          },
          "metadata": {},
          "execution_count": 31
        }
      ]
    },
    {
      "cell_type": "code",
      "source": [
        "'HarSh'.swapcase()"
      ],
      "metadata": {
        "colab": {
          "base_uri": "https://localhost:8080/",
          "height": 36
        },
        "id": "rJisgiS7CWb2",
        "outputId": "fd8a33da-e479-40a7-c22d-157b3dda5c89"
      },
      "execution_count": null,
      "outputs": [
        {
          "output_type": "execute_result",
          "data": {
            "text/plain": [
              "'hARsH'"
            ],
            "application/vnd.google.colaboratory.intrinsic+json": {
              "type": "string"
            }
          },
          "metadata": {},
          "execution_count": 32
        }
      ]
    },
    {
      "cell_type": "markdown",
      "source": [
        "Count/Find/Index\n",
        "index working is same as the Find No Chage. The only thing if the searched value doesn't exist it will throw an exception where as Find will print -1"
      ],
      "metadata": {
        "id": "weC5U5OyDGMb"
      }
    },
    {
      "cell_type": "code",
      "source": [
        "'harsh'.count('h')\n"
      ],
      "metadata": {
        "colab": {
          "base_uri": "https://localhost:8080/"
        },
        "id": "HDZtHaCiDJku",
        "outputId": "288012c5-d2a1-410c-c1c3-aa4e77ee36e2"
      },
      "execution_count": null,
      "outputs": [
        {
          "output_type": "execute_result",
          "data": {
            "text/plain": [
              "2"
            ]
          },
          "metadata": {},
          "execution_count": 33
        }
      ]
    },
    {
      "cell_type": "code",
      "source": [
        "'harsh'.find('h')"
      ],
      "metadata": {
        "colab": {
          "base_uri": "https://localhost:8080/"
        },
        "id": "JWcnZ-k8DxC9",
        "outputId": "ad521567-6aa0-4888-eab4-f9be1b613658"
      },
      "execution_count": null,
      "outputs": [
        {
          "output_type": "execute_result",
          "data": {
            "text/plain": [
              "0"
            ]
          },
          "metadata": {},
          "execution_count": 34
        }
      ]
    },
    {
      "cell_type": "markdown",
      "source": [
        "endswith/startswith"
      ],
      "metadata": {
        "id": "PQSsZHOJEtfd"
      }
    },
    {
      "cell_type": "code",
      "source": [
        "'Software'.endswith('e')"
      ],
      "metadata": {
        "colab": {
          "base_uri": "https://localhost:8080/"
        },
        "id": "5ZkePMqoEsd8",
        "outputId": "d0941703-fba3-409c-eae6-1ac3a557e8eb"
      },
      "execution_count": null,
      "outputs": [
        {
          "output_type": "execute_result",
          "data": {
            "text/plain": [
              "True"
            ]
          },
          "metadata": {},
          "execution_count": 35
        }
      ]
    },
    {
      "cell_type": "code",
      "source": [
        "'Software'.startswith('S')"
      ],
      "metadata": {
        "colab": {
          "base_uri": "https://localhost:8080/"
        },
        "id": "ejzL29MyEsfd",
        "outputId": "d3661e30-6e04-459e-acbf-5d21cf72ff9d"
      },
      "execution_count": null,
      "outputs": [
        {
          "output_type": "execute_result",
          "data": {
            "text/plain": [
              "True"
            ]
          },
          "metadata": {},
          "execution_count": 36
        }
      ]
    },
    {
      "cell_type": "markdown",
      "source": [
        "format"
      ],
      "metadata": {
        "id": "82UN_1h9E79H"
      }
    },
    {
      "cell_type": "code",
      "source": [
        "name = ['HG','Harsh']\n",
        "Designation = 'Software Developer'\n",
        "'My name is {} and my designation is {}'.format(name,Designation)"
      ],
      "metadata": {
        "colab": {
          "base_uri": "https://localhost:8080/",
          "height": 36
        },
        "id": "oq9Iv-GSEsiU",
        "outputId": "b853bae8-337a-427e-8db2-6659fcdd56fb"
      },
      "execution_count": null,
      "outputs": [
        {
          "output_type": "execute_result",
          "data": {
            "text/plain": [
              "\"My name is ['HG', 'Harsh'] and my designation is Software Developer\""
            ],
            "application/vnd.google.colaboratory.intrinsic+json": {
              "type": "string"
            }
          },
          "metadata": {},
          "execution_count": 38
        }
      ]
    },
    {
      "cell_type": "markdown",
      "source": [
        "isalnum/isalpha/isdigit/isidentifier"
      ],
      "metadata": {
        "id": "i-51puAfGuSk"
      }
    },
    {
      "cell_type": "code",
      "source": [
        "'HG55'.isalnum()"
      ],
      "metadata": {
        "colab": {
          "base_uri": "https://localhost:8080/"
        },
        "id": "mLow0mQbEsj5",
        "outputId": "e69584fd-b8e3-4cfa-c6b4-58333800a66a"
      },
      "execution_count": null,
      "outputs": [
        {
          "output_type": "execute_result",
          "data": {
            "text/plain": [
              "True"
            ]
          },
          "metadata": {},
          "execution_count": 40
        }
      ]
    },
    {
      "cell_type": "code",
      "source": [
        "'HG55'.isalpha()"
      ],
      "metadata": {
        "colab": {
          "base_uri": "https://localhost:8080/"
        },
        "id": "TY8B99kgEsnH",
        "outputId": "d3a4fe40-13cc-4290-dd4f-922a93fd1261"
      },
      "execution_count": null,
      "outputs": [
        {
          "output_type": "execute_result",
          "data": {
            "text/plain": [
              "False"
            ]
          },
          "metadata": {},
          "execution_count": 41
        }
      ]
    },
    {
      "cell_type": "code",
      "source": [
        "'HG55'.isdigit()"
      ],
      "metadata": {
        "colab": {
          "base_uri": "https://localhost:8080/"
        },
        "id": "kGZyRXlUG6bP",
        "outputId": "da85303f-fccf-4923-b2b1-f7752edb5898"
      },
      "execution_count": null,
      "outputs": [
        {
          "output_type": "execute_result",
          "data": {
            "text/plain": [
              "False"
            ]
          },
          "metadata": {},
          "execution_count": 42
        }
      ]
    },
    {
      "cell_type": "code",
      "source": [
        "'First-name'.isidentifier()"
      ],
      "metadata": {
        "colab": {
          "base_uri": "https://localhost:8080/"
        },
        "id": "eTAKQKdxEspe",
        "outputId": "7c5e3f3f-b9fa-4f03-a00a-926fc2c03104"
      },
      "execution_count": null,
      "outputs": [
        {
          "output_type": "execute_result",
          "data": {
            "text/plain": [
              "False"
            ]
          },
          "metadata": {},
          "execution_count": 44
        }
      ]
    },
    {
      "cell_type": "markdown",
      "source": [
        "Split/Join"
      ],
      "metadata": {
        "id": "I_0aS6MsII62"
      }
    },
    {
      "cell_type": "code",
      "source": [
        "'harsh gandhi is funny'.split()"
      ],
      "metadata": {
        "colab": {
          "base_uri": "https://localhost:8080/"
        },
        "id": "FRmcdP9sEssy",
        "outputId": "f3147ecf-ec45-41dc-f078-1ebbbe630b94"
      },
      "execution_count": null,
      "outputs": [
        {
          "output_type": "execute_result",
          "data": {
            "text/plain": [
              "['harsh', 'gandhi', 'is', 'funny']"
            ]
          },
          "metadata": {},
          "execution_count": 51
        }
      ]
    },
    {
      "cell_type": "code",
      "source": [
        "' '.join(['harsh', 'gandhi', 'is', 'funny'])"
      ],
      "metadata": {
        "colab": {
          "base_uri": "https://localhost:8080/",
          "height": 36
        },
        "id": "qV64OdDHILG_",
        "outputId": "a33510e1-abaf-47dd-e955-e4634a23c1c4"
      },
      "execution_count": null,
      "outputs": [
        {
          "output_type": "execute_result",
          "data": {
            "text/plain": [
              "'harsh gandhi is funny'"
            ],
            "application/vnd.google.colaboratory.intrinsic+json": {
              "type": "string"
            }
          },
          "metadata": {},
          "execution_count": 53
        }
      ]
    },
    {
      "cell_type": "markdown",
      "source": [
        "Replace/strip"
      ],
      "metadata": {
        "id": "o4ZFq-H8M0Fa"
      }
    },
    {
      "cell_type": "code",
      "source": [
        "'My Name is Harsh'.replace('Harsh','HG')"
      ],
      "metadata": {
        "colab": {
          "base_uri": "https://localhost:8080/",
          "height": 36
        },
        "id": "8cRrBSt2M5BK",
        "outputId": "5331a070-2784-4eb8-eecc-e5d6804d11d1"
      },
      "execution_count": null,
      "outputs": [
        {
          "output_type": "execute_result",
          "data": {
            "text/plain": [
              "'My Name is Harsh'"
            ],
            "application/vnd.google.colaboratory.intrinsic+json": {
              "type": "string"
            }
          },
          "metadata": {},
          "execution_count": 55
        }
      ]
    },
    {
      "cell_type": "code",
      "source": [
        "'Harsh           '.strip()\n"
      ],
      "metadata": {
        "colab": {
          "base_uri": "https://localhost:8080/",
          "height": 36
        },
        "id": "kfecuvvhNEgH",
        "outputId": "57d1e621-0580-4a2e-e55c-290f88ac7dab"
      },
      "execution_count": null,
      "outputs": [
        {
          "output_type": "execute_result",
          "data": {
            "text/plain": [
              "'Harsh'"
            ],
            "application/vnd.google.colaboratory.intrinsic+json": {
              "type": "string"
            }
          },
          "metadata": {},
          "execution_count": 56
        }
      ]
    }
  ]
}