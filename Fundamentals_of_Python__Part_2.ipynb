{
  "nbformat": 4,
  "nbformat_minor": 0,
  "metadata": {
    "colab": {
      "provenance": [],
      "authorship_tag": "ABX9TyOO5hf1eScszmJwaxMKDJaM",
      "include_colab_link": true
    },
    "kernelspec": {
      "name": "python3",
      "display_name": "Python 3"
    },
    "language_info": {
      "name": "python"
    }
  },
  "cells": [
    {
      "cell_type": "markdown",
      "metadata": {
        "id": "view-in-github",
        "colab_type": "text"
      },
      "source": [
        "<a href=\"https://colab.research.google.com/github/HG1210/Learn_py/blob/main/Fundamentals_of_Python__Part_2.ipynb\" target=\"_parent\"><img src=\"https://colab.research.google.com/assets/colab-badge.svg\" alt=\"Open In Colab\"/></a>"
      ]
    },
    {
      "cell_type": "markdown",
      "source": [
        "31-3-2025\n",
        "\n",
        "1.   Membership operator\n",
        "2.   No increment and decrement (best part)\n",
        "\n",
        "3-4-2025\n",
        "\n",
        "1.   if-else, nested if else\n",
        "2.   Modules\n",
        "\n",
        "\n",
        "\n"
      ],
      "metadata": {
        "id": "2emDz9N2FdfG"
      }
    },
    {
      "cell_type": "code",
      "execution_count": null,
      "metadata": {
        "colab": {
          "base_uri": "https://localhost:8080/"
        },
        "id": "-2vp2w4uCbMD",
        "outputId": "2ed0a310-7d41-4c55-84de-23e84b0e0a49"
      },
      "outputs": [
        {
          "output_type": "stream",
          "name": "stdout",
          "text": [
            "True\n"
          ]
        }
      ],
      "source": [
        "# Membership operator in/not in\n",
        "print ('H' in 'Harsh')"
      ]
    },
    {
      "cell_type": "code",
      "source": [
        "#Print the sum of first 3 number\n",
        "num = int(input(\"Enter any 3-digit number: \"))\n",
        "# 345 % 10  -> 5\n",
        "a = num%10\n",
        "# 345 // 10 -> 34\n",
        "num = num // 10\n",
        "b = num % 10\n",
        "num = num // 10\n",
        "c = num % 10\n",
        "print(\"The sum of first 3 digit number is: \",a+b+c)"
      ],
      "metadata": {
        "colab": {
          "base_uri": "https://localhost:8080/"
        },
        "id": "TO0C9xKJN68G",
        "outputId": "7cc4dfeb-c3b5-4e20-9eec-73736c4140e4"
      },
      "execution_count": null,
      "outputs": [
        {
          "output_type": "stream",
          "name": "stdout",
          "text": [
            "Enter any 3-digit number: 345\n",
            "The sum of first 3 digit number is:  12\n"
          ]
        }
      ]
    },
    {
      "cell_type": "markdown",
      "source": [
        "Modules In Python\n",
        "\n",
        "1.   Math\n",
        "2.   keyword - To get the list make use of kwlist almost 32 or 33\n",
        "3.   random\n",
        "4.   datetime"
      ],
      "metadata": {
        "id": "zqxethxyppNq"
      }
    },
    {
      "cell_type": "code",
      "source": [
        "import math as mt\n",
        "a=mt.factorial(5)\n",
        "b=mt.sqrt(144)\n",
        "c=mt.floor(6.6)\n",
        "print(a,b,c,sep='|')"
      ],
      "metadata": {
        "colab": {
          "base_uri": "https://localhost:8080/"
        },
        "id": "dxQZQieipmzN",
        "outputId": "3b54bdcf-25e6-4a2d-cf18-a26f252f1879"
      },
      "execution_count": null,
      "outputs": [
        {
          "output_type": "stream",
          "name": "stdout",
          "text": [
            "120|12.0|6\n"
          ]
        }
      ]
    },
    {
      "cell_type": "code",
      "source": [
        "import random as rand\n",
        "print(rand.randint(1,100))"
      ],
      "metadata": {
        "colab": {
          "base_uri": "https://localhost:8080/"
        },
        "id": "KjcVWfsMsewq",
        "outputId": "7d4d7711-3cc6-4ac1-b865-3c235fc86a26"
      },
      "execution_count": null,
      "outputs": [
        {
          "output_type": "stream",
          "name": "stdout",
          "text": [
            "73\n"
          ]
        }
      ]
    },
    {
      "cell_type": "code",
      "source": [
        "import datetime as dt\n",
        "print (dt.datetime.now())"
      ],
      "metadata": {
        "colab": {
          "base_uri": "https://localhost:8080/"
        },
        "id": "axcNFjzas6QT",
        "outputId": "963c790a-ce4b-4c67-f8d3-6730f24f0040"
      },
      "execution_count": null,
      "outputs": [
        {
          "output_type": "stream",
          "name": "stdout",
          "text": [
            "2025-04-03 17:32:33.825305\n"
          ]
        }
      ]
    },
    {
      "cell_type": "code",
      "source": [
        "#While Loops\n",
        "nums = int(input(\"Enter any number: \"))\n",
        "i=1\n",
        "while i<10:\n",
        "  print(nums)\n",
        "  nums+=1\n",
        "  i+=1\n",
        "\n"
      ],
      "metadata": {
        "colab": {
          "base_uri": "https://localhost:8080/"
        },
        "id": "-mFwI9S8wRsw",
        "outputId": "6055b979-6dac-4f27-f8db-e2b4ba91b6a1"
      },
      "execution_count": null,
      "outputs": [
        {
          "output_type": "stream",
          "name": "stdout",
          "text": [
            "Enter any number: 2\n",
            "2\n",
            "3\n",
            "4\n",
            "5\n",
            "6\n",
            "7\n",
            "8\n",
            "9\n",
            "10\n"
          ]
        }
      ]
    },
    {
      "cell_type": "code",
      "source": [
        "# Multiplication Table\n",
        "table = int(input(\"Enter The Multiplication Table No.\"))\n",
        "i = 1\n",
        "while (i<=10):\n",
        "  print(table,\"*\",i,\"=\",table*i)\n",
        "  i+=1"
      ],
      "metadata": {
        "colab": {
          "base_uri": "https://localhost:8080/"
        },
        "id": "Ekz9t9rrzWT5",
        "outputId": "77292980-4cb2-406e-cb4a-671fa14f214f"
      },
      "execution_count": null,
      "outputs": [
        {
          "output_type": "stream",
          "name": "stdout",
          "text": [
            "Enter The Multiplication Table No.2\n",
            "2 * 1 = 2\n",
            "2 * 2 = 4\n",
            "2 * 3 = 6\n",
            "2 * 4 = 8\n",
            "2 * 5 = 10\n",
            "2 * 6 = 12\n",
            "2 * 7 = 14\n",
            "2 * 8 = 16\n",
            "2 * 9 = 18\n",
            "2 * 10 = 20\n"
          ]
        }
      ]
    },
    {
      "cell_type": "code",
      "source": [],
      "metadata": {
        "id": "bfmBHruR4WFw"
      },
      "execution_count": null,
      "outputs": []
    }
  ]
}