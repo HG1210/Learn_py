{
  "nbformat": 4,
  "nbformat_minor": 0,
  "metadata": {
    "colab": {
      "provenance": [],
      "include_colab_link": true
    },
    "kernelspec": {
      "name": "python3",
      "display_name": "Python 3"
    },
    "language_info": {
      "name": "python"
    }
  },
  "cells": [
    {
      "cell_type": "markdown",
      "metadata": {
        "id": "view-in-github",
        "colab_type": "text"
      },
      "source": [
        "<a href=\"https://colab.research.google.com/github/HG1210/Learn_py/blob/main/Copy_of_session_1_tasks.ipynb\" target=\"_parent\"><img src=\"https://colab.research.google.com/assets/colab-badge.svg\" alt=\"Open In Colab\"/></a>"
      ]
    },
    {
      "cell_type": "markdown",
      "source": [
        "# Task : Session 1\n",
        "Solve these questions own your own and try to test yourself what you have learned in the session.\n",
        "\n",
        "Happy Learning!"
      ],
      "metadata": {
        "id": "A05OG15VqOPF"
      }
    },
    {
      "cell_type": "markdown",
      "source": [
        "### Q1 :- Print the given strings as per stated format.\n",
        "\n",
        "**Given strings**:\n",
        "```\n",
        "\"Data\" \"Science\" \"Mentorship\" \"Program\"\n",
        "\"By\" \"CampusX\"\n",
        "```\n",
        "**Output**:\n",
        "```\n",
        "Data-Science-Mentorship-Program-started-By-CampusX\n",
        "```\n",
        "\n",
        "Concept- [Seperator and End]"
      ],
      "metadata": {
        "id": "2doIXf8bqe9_"
      }
    },
    {
      "cell_type": "code",
      "source": [
        "# Write your code here\n",
        "print(\"Data\",\"Science\",\"Mentorship\",\"Program\",sep='-',end='-')\n",
        "print('By','CampusX',sep='-')"
      ],
      "metadata": {
        "id": "-em6d3KErDtp",
        "colab": {
          "base_uri": "https://localhost:8080/"
        },
        "outputId": "1c26a9bf-8eb7-4db6-cb0c-db57d020b063"
      },
      "execution_count": null,
      "outputs": [
        {
          "output_type": "stream",
          "name": "stdout",
          "text": [
            "Data-Science-Mentorship-Program-By-CampusX\n"
          ]
        }
      ]
    },
    {
      "cell_type": "markdown",
      "source": [
        "### Q2:- Write a program that will convert celsius value to fahrenheit."
      ],
      "metadata": {
        "id": "1KUpN7ZTrC3_"
      }
    },
    {
      "cell_type": "code",
      "source": [
        "# Write your code here\n",
        "celsius = int(input(\"Enter the value for celsius:\"))\n",
        "fahrenheit = celsius * 1.8 + 32\n",
        "print(fahrenheit)"
      ],
      "metadata": {
        "id": "yxKYhYQiqWfj",
        "colab": {
          "base_uri": "https://localhost:8080/"
        },
        "outputId": "ba2a981f-2148-4c8e-d148-0f0ae61faa26"
      },
      "execution_count": null,
      "outputs": [
        {
          "output_type": "stream",
          "name": "stdout",
          "text": [
            "Enter the value for celsius:36\n",
            "96.8\n"
          ]
        }
      ]
    },
    {
      "cell_type": "markdown",
      "source": [
        "### Q3:- Take 2 numbers as input from the user.Write a program to swap the numbers without using any special python syntax."
      ],
      "metadata": {
        "id": "RLrOBBJurLB2"
      }
    },
    {
      "cell_type": "code",
      "source": [
        "# Write your code here\n",
        "swap1 = int(input(\"Enter the first number:\"))\n",
        "swap2 = int(input(\"Enter the second number\"))\n",
        "temp = swap1\n",
        "swap1 = swap2\n",
        "swap2 = temp\n",
        "print(\"The swap numbers are:\",swap1,swap2)"
      ],
      "metadata": {
        "id": "yPn7if0TrJ4F",
        "colab": {
          "base_uri": "https://localhost:8080/"
        },
        "outputId": "3e35ec35-2fa0-4285-a205-c3e24a6b7f2a"
      },
      "execution_count": null,
      "outputs": [
        {
          "output_type": "stream",
          "name": "stdout",
          "text": [
            "Enter the first number:12\n",
            "Enter the second number10\n",
            "The swap numbers are: 10 12\n"
          ]
        }
      ]
    },
    {
      "cell_type": "markdown",
      "source": [
        "### Q4:- Write a program to find the euclidean distance between two coordinates.Take both the coordinates from the user as input."
      ],
      "metadata": {
        "id": "waLCP1bjr7ML"
      }
    },
    {
      "cell_type": "code",
      "source": [
        "# Write your code here\n",
        "import math as mt\n",
        "x1 = int(input(\"Enter the first coordinates:\"))\n",
        "x2 = int(input(\"Enter the second coordinates:\"))\n",
        "\n",
        "y1 = int(input(\"Enter the first coordinates:\"))\n",
        "y2 = int(input(\"Enter the second coordinates:\"))\n",
        "\n",
        "euclidean = mt.sqrt((x2-x1)**2 + (y2-y1)**2)\n",
        "print(euclidean)\n"
      ],
      "metadata": {
        "id": "Pl1Sv-xnrxnH",
        "colab": {
          "base_uri": "https://localhost:8080/"
        },
        "outputId": "a11c676d-26b0-4966-d093-73be3f21bc67"
      },
      "execution_count": null,
      "outputs": [
        {
          "output_type": "stream",
          "name": "stdout",
          "text": [
            "Enter the first coordinates:15\n",
            "Enter the second coordinates:5\n",
            "Enter the first coordinates:15\n",
            "Enter the second coordinates:5\n",
            "14.142135623730951\n"
          ]
        }
      ]
    },
    {
      "cell_type": "markdown",
      "source": [
        "### Q5:- Write a program to find the simple interest when the value of principle,rate of interest and time period is provided by the user.\n"
      ],
      "metadata": {
        "id": "VLrhg-FRsHjR"
      }
    },
    {
      "cell_type": "code",
      "source": [
        "# Write your code here\n",
        "principle = int(input(\"Enter the principle amount:\"))\n",
        "interest_rate = int(input(\"Enter the interest rate:\"))\n",
        "time_period = int(input(\"Enter the time period:\"))\n",
        "simple_interest = (principle*interest_rate*time_period)/100\n",
        "print(\"The simple interest calculated value\",simple_interest)"
      ],
      "metadata": {
        "id": "s40DlReZsTmY",
        "colab": {
          "base_uri": "https://localhost:8080/"
        },
        "outputId": "0b79a649-4551-41e1-8501-0616044e3caf"
      },
      "execution_count": null,
      "outputs": [
        {
          "output_type": "stream",
          "name": "stdout",
          "text": [
            "Enter the principle amount:1000\n",
            "Enter the interest rate:8\n",
            "Enter the time period:1\n",
            "80.0\n"
          ]
        }
      ]
    },
    {
      "cell_type": "markdown",
      "source": [
        "### Q6:- Write a program that will tell the number of dogs and chicken are there when the user will provide the value of total heads and legs.\n",
        "\n",
        "For example:\n",
        "Input:\n",
        "heads -> 4\n",
        "legs -> 12\n",
        "<br>\n",
        "Output:\n",
        "dogs -> 2\n",
        "chicken -> 2\n",
        "\n",
        "\n",
        "\n"
      ],
      "metadata": {
        "id": "LMy0BTUktYKa"
      }
    },
    {
      "cell_type": "code",
      "source": [
        "# Write your code here\n",
        "head = int(input(\"Enter the total no.of head:\"))\n",
        "legs = int(input(\"Enter the total no.of legs:\"))\n",
        "\n",
        "if head<legs:\n",
        "  chicken = 2*head - legs/2\n",
        "  print(int(chicken))\n",
        "  dogs = head - chicken\n",
        "  print(int(dogs))\n",
        "else:\n",
        "  print(\" \")\n",
        "\n",
        "#chicken + dog = head\n",
        "#2c + 4dog = leg\n",
        "\n",
        "#2c + 4(head - chicken) = leg\n"
      ],
      "metadata": {
        "id": "XSBvJoA4tXaG",
        "colab": {
          "base_uri": "https://localhost:8080/"
        },
        "outputId": "7b93b85e-9202-499c-c5eb-7517902eedc3"
      },
      "execution_count": null,
      "outputs": [
        {
          "output_type": "stream",
          "name": "stdout",
          "text": [
            "Enter the total no.of head:10\n",
            "Enter the total no.of legs:20\n",
            "10\n",
            "0\n"
          ]
        }
      ]
    },
    {
      "cell_type": "markdown",
      "source": [
        "### Q7:- Write a program to find the sum of squares of first n natural numbers where n will be provided by the user."
      ],
      "metadata": {
        "id": "gJ7C5kZYt4BP"
      }
    },
    {
      "cell_type": "markdown",
      "source": [
        "### Q8:- Given the first 2 terms of an Arithmetic Series.Find the Nth term of the series. Assume all inputs are provided by the user."
      ],
      "metadata": {
        "id": "FHrMM7g-yG1h"
      }
    },
    {
      "cell_type": "code",
      "source": [
        "# Write your code here\n",
        "n = int(input(\"Enter the sum of square\"))\n",
        "i = 1\n",
        "sum = 0\n",
        "for i in range(1,n+1):\n",
        "  if i%2 == 0:\n",
        "    continue\n",
        "  else:\n",
        "    print(i)"
      ],
      "metadata": {
        "id": "go4_kmZmyVSx",
        "colab": {
          "base_uri": "https://localhost:8080/"
        },
        "outputId": "e8c58923-ac73-4b09-b3c8-77e9778a74c9"
      },
      "execution_count": null,
      "outputs": [
        {
          "output_type": "stream",
          "name": "stdout",
          "text": [
            "Enter the sum of square5\n",
            "1\n",
            "3\n",
            "5\n"
          ]
        }
      ]
    },
    {
      "cell_type": "markdown",
      "source": [
        "### Q9:- Given 2 fractions, find the sum of those 2 fractions.Take the numerator and denominator values of the fractions from the user."
      ],
      "metadata": {
        "id": "QgyRX_es1oum"
      }
    },
    {
      "cell_type": "code",
      "source": [
        "# Write your code here\n",
        "\n",
        "import fractions as fr\n",
        "\n",
        "a = fr.Fraction(input(\"Enter the first fraction: \"))\n",
        "b = fr.Fraction(input(\"Enter the second fraction: \"))\n",
        "\n",
        "result = a + b\n",
        "print(\"Sum as a fraction:\", result)\n",
        "print(\"Sum as a decimal:\", float(result))\n",
        "\n"
      ],
      "metadata": {
        "id": "X05xqFS1yW16",
        "colab": {
          "base_uri": "https://localhost:8080/"
        },
        "outputId": "e6105b83-4ea3-4c0a-a10f-5ab62d9288d6"
      },
      "execution_count": null,
      "outputs": [
        {
          "output_type": "stream",
          "name": "stdout",
          "text": [
            "Enter the first fraction: 10/25\n",
            "Enter the second fraction: 25/10\n",
            "Sum as a fraction: 29/10\n",
            "Sum as a decimal: 2.9\n"
          ]
        }
      ]
    },
    {
      "cell_type": "markdown",
      "source": [
        "### Q10:- Given the height, width and breadth of a milk tank, you have to find out how many glasses of milk can be obtained? Assume all the inputs are provided by the user.\n",
        "\n",
        "\n",
        "\n",
        "Input:<br>\n",
        "Dimensions of the milk tank<br>\n",
        "H = 20cm, L = 20cm, B = 20cm\n",
        "<br><br>\n",
        "Dimensions of the glass<br>\n",
        "h = 3cm, r = 1cm"
      ],
      "metadata": {
        "id": "eaql38ln13u7"
      }
    },
    {
      "cell_type": "code",
      "source": [
        "# Write your code here\n",
        "import math as mt\n",
        "\n",
        "# Dimensions of the milk tank (cuboid)\n",
        "H = 20\n",
        "L = 20\n",
        "B = 20\n",
        "\n",
        "# Volume of milk tank\n",
        "vol = H * L * B\n",
        "\n",
        "# Dimensions of the glass (cylinder)\n",
        "h = 3  # height of the glass\n",
        "r = 1  # radius of the glass\n",
        "\n",
        "# Volume of one glass\n",
        "vol_glass = mt.pi * (r**2) * h\n",
        "\n",
        "# Number of glasses that can be filled\n",
        "result = vol / vol_glass\n",
        "\n",
        "# Display the result\n",
        "print(\"Total number of glasses that can be filled:\", int(result))\n"
      ],
      "metadata": {
        "id": "FePZqno74eWv",
        "colab": {
          "base_uri": "https://localhost:8080/"
        },
        "outputId": "92d82f92-fd85-4e97-fbf4-9385ded55b1e"
      },
      "execution_count": null,
      "outputs": [
        {
          "output_type": "stream",
          "name": "stdout",
          "text": [
            "Total number of glasses that can be filled: 848\n"
          ]
        }
      ]
    },
    {
      "cell_type": "code",
      "source": [],
      "metadata": {
        "id": "P5iIYQyMy7k_"
      },
      "execution_count": null,
      "outputs": []
    }
  ]
}